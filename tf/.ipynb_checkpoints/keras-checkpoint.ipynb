{
 "cells": [
  {
   "cell_type": "code",
   "execution_count": 1,
   "id": "550ee448-62ac-49d0-ab22-1329ca6b7d39",
   "metadata": {
    "scrolled": true
   },
   "outputs": [
    {
     "name": "stdout",
     "output_type": "stream",
     "text": [
      "Found existing installation: opencv-python-headless 4.5.4.60\n",
      "Uninstalling opencv-python-headless-4.5.4.60:\n",
      "  Successfully uninstalled opencv-python-headless-4.5.4.60\n"
     ]
    }
   ],
   "source": [
    "!pip uninstall opencv-python-headless --yes"
   ]
  },
  {
   "cell_type": "code",
   "execution_count": 2,
   "id": "223e80a2-d410-43c5-b3ed-72591b57f479",
   "metadata": {},
   "outputs": [
    {
     "name": "stdout",
     "output_type": "stream",
     "text": [
      "Requirement already satisfied: opencv-python==4.5.4.60 in /usr/local/lib/python3.8/dist-packages (4.5.4.60)\n",
      "Requirement already satisfied: numpy>=1.17.3 in /usr/local/lib/python3.8/dist-packages (from opencv-python==4.5.4.60) (1.23.2)\n",
      "\u001b[33mWARNING: You are using pip version 20.2.4; however, version 24.2 is available.\n",
      "You should consider upgrading via the '/usr/bin/python3 -m pip install --upgrade pip' command.\u001b[0m\n"
     ]
    }
   ],
   "source": [
    "!pip install opencv-python==4.5.4.60"
   ]
  },
  {
   "cell_type": "code",
   "execution_count": 1,
   "id": "874c360e-a025-4e81-8925-553c02b308c2",
   "metadata": {},
   "outputs": [
    {
     "name": "stderr",
     "output_type": "stream",
     "text": [
      "2024-10-02 03:11:14.818049: I tensorflow/core/platform/cpu_feature_guard.cc:193] This TensorFlow binary is optimized with oneAPI Deep Neural Network Library (oneDNN) to use the following CPU instructions in performance-critical operations:  AVX2 FMA\n",
      "To enable them in other operations, rebuild TensorFlow with the appropriate compiler flags.\n",
      "2024-10-02 03:11:14.990710: E tensorflow/stream_executor/cuda/cuda_blas.cc:2981] Unable to register cuBLAS factory: Attempting to register factory for plugin cuBLAS when one has already been registered\n"
     ]
    },
    {
     "name": "stdout",
     "output_type": "stream",
     "text": [
      "2.10.0\n"
     ]
    }
   ],
   "source": [
    "import tensorflow as tf\n",
    "\n",
    "print(tf.__version__)"
   ]
  },
  {
   "cell_type": "code",
   "execution_count": 4,
   "id": "10c9bb47-460a-4d3c-a4e1-a12e0da68782",
   "metadata": {},
   "outputs": [],
   "source": [
    "from PIL import Image, ImageDraw, ImageFont\n",
    "import os"
   ]
  },
  {
   "cell_type": "code",
   "execution_count": 2,
   "id": "fc843b14-f907-4c25-a26e-6d26b2374dc0",
   "metadata": {},
   "outputs": [],
   "source": [
    "data_dir = 'text'\n",
    "wordlist_file = os.path.join(data_dir, 'sah.wordlist')\n",
    "training_text_file = os.path.join(data_dir, 'sah.training_text')\n",
    "fonts_list_file = os.path.join(data_dir, 'okfonts_test.txt')\n",
    "\n",
    "fonts_dir = os.path.join(data_dir, 'fonts')\n",
    "\n",
    "output_dir = 'test_images'"
   ]
  },
  {
   "cell_type": "code",
   "execution_count": 3,
   "id": "a98c9309-e1ab-4a71-a453-e23d9c729475",
   "metadata": {},
   "outputs": [],
   "source": [
    "with open(wordlist_file, 'r', encoding='utf-8') as f:\n",
    "    words = f.readlines()\n",
    "\n",
    "with open(training_text_file, 'r', encoding='utf-8') as f:\n",
    "    training_text = f.readlines()\n",
    "\n",
    "with open(fonts_list_file, 'r', encoding='utf-8') as f:\n",
    "    styles = [line.strip() for line in f.readlines()]"
   ]
  },
  {
   "cell_type": "code",
   "execution_count": 4,
   "id": "ce79c1db-38b3-4e19-b725-89e4005a073d",
   "metadata": {},
   "outputs": [],
   "source": [
    "def load_fonts_from_styles(styles_list, base_fonts_dir):\n",
    "    fonts = []\n",
    "    for style in styles_list:\n",
    "        style_dir = os.path.join(base_fonts_dir, style)\n",
    "        if os.path.exists(style_dir):\n",
    "            for file in os.listdir(style_dir):\n",
    "                if file.endswith(('.ttf', '.otf')):\n",
    "                    fonts.append(os.path.join(style_dir, file))\n",
    "        else:\n",
    "            print(f\"Директория для стиля '{style}' не найдена: {style_dir}\")\n",
    "    return fonts"
   ]
  },
  {
   "cell_type": "code",
   "execution_count": 5,
   "id": "00bd43fe-27e2-405c-8dd5-c4f9a68c2409",
   "metadata": {},
   "outputs": [],
   "source": [
    "fonts = load_fonts_from_styles(styles, fonts_dir)"
   ]
  },
  {
   "cell_type": "code",
   "execution_count": 6,
   "id": "b3419334-800a-44f6-a315-69cca5018caa",
   "metadata": {},
   "outputs": [],
   "source": [
    "def generate_image(text, font_path, image_size=(500, 100), font_size=30):\n",
    "    image = Image.new('RGB', image_size, color=(255, 255, 255))\n",
    "    draw = ImageDraw.Draw(image)\n",
    "    try:\n",
    "        font = ImageFont.truetype(font_path, font_size)\n",
    "    except IOError:\n",
    "        print(f\"Не удалось загрузить шрифт: {font_path}\")\n",
    "        return None\n",
    "        \n",
    "    text_bbox = draw.textbbox((0, 0), text, font=font)\n",
    "    text_width = text_bbox[2] - text_bbox[0]\n",
    "    text_height = text_bbox[3] - text_bbox[1]\n",
    "\n",
    "    text_x = (image_size[0] - text_width) // 2\n",
    "    text_y = (image_size[1] - text_height) // 2\n",
    "\n",
    "    draw.text((text_x, text_y), text, font=font, fill=(0, 0, 0))\n",
    "    \n",
    "    return image"
   ]
  },
  {
   "cell_type": "code",
   "execution_count": 7,
   "id": "a1f57c21-9820-41bd-829f-99a1bb582e0a",
   "metadata": {
    "scrolled": true
   },
   "outputs": [
    {
     "name": "stdout",
     "output_type": "stream",
     "text": [
      "Изображение сохранено: test_images/image_0_AlegreyaSans-ThinItalic.ttf.png\n",
      "Изображение сохранено: test_images/image_1_AlegreyaSans-ExtraBold.ttf.png\n",
      "Изображение сохранено: test_images/image_2_AlegreyaSans-MediumItalic.ttf.png\n",
      "Изображение сохранено: test_images/image_3_AlegreyaSans-Regular.ttf.png\n",
      "Изображение сохранено: test_images/image_4_AlegreyaSans-Light.ttf.png\n",
      "Изображение сохранено: test_images/image_5_AlegreyaSans-BlackItalic.ttf.png\n",
      "Изображение сохранено: test_images/image_6_AlegreyaSans-LightItalic.ttf.png\n",
      "Изображение сохранено: test_images/image_7_AlegreyaSans-Black.ttf.png\n",
      "Изображение сохранено: test_images/image_8_AlegreyaSans-BoldItalic.ttf.png\n",
      "Изображение сохранено: test_images/image_9_AlegreyaSans-Medium.ttf.png\n",
      "Изображение сохранено: test_images/image_10_AlegreyaSans-Bold.ttf.png\n",
      "Изображение сохранено: test_images/image_11_AlegreyaSans-Thin.ttf.png\n",
      "Изображение сохранено: test_images/image_12_AlegreyaSans-Italic.ttf.png\n",
      "Изображение сохранено: test_images/image_13_AlegreyaSans-ExtraBoldItalic.ttf.png\n",
      "Изображение сохранено: test_images/image_14_Alice-Regular.ttf.png\n",
      "Изображение сохранено: test_images/image_15_Arimo-Italic-VariableFont_wght.ttf.png\n",
      "Изображение сохранено: test_images/image_16_Arimo-VariableFont_wght.ttf.png\n",
      "Изображение сохранено: test_images/image_17_Bitter-Italic-VariableFont_wght.ttf.png\n",
      "Изображение сохранено: test_images/image_18_Bitter-VariableFont_wght.ttf.png\n",
      "Изображение сохранено: test_images/image_19_Comfortaa-VariableFont_wght.ttf.png\n",
      "Изображение сохранено: test_images/image_20_Cormorant-VariableFont_wght.ttf.png\n",
      "Изображение сохранено: test_images/image_21_Cormorant-Italic-VariableFont_wght.ttf.png\n",
      "Изображение сохранено: test_images/image_22_EBGaramond-VariableFont_wght.ttf.png\n",
      "Изображение сохранено: test_images/image_23_EBGaramond-Italic-VariableFont_wght.ttf.png\n",
      "Недостаточно шрифтов для всех текстов.\n"
     ]
    }
   ],
   "source": [
    "for i, text in enumerate(training_text):\n",
    "    if i < len(fonts):\n",
    "        font = fonts[i]\n",
    "        image = generate_image(text.strip(), font)\n",
    "        if image:\n",
    "            output_path = os.path.join(output_dir, f'image_{i}_{os.path.basename(font)}.png')\n",
    "            image.save(output_path)\n",
    "            print(f'Изображение сохранено: {output_path}')\n",
    "    else:\n",
    "        print(\"Недостаточно шрифтов для всех текстов.\")\n",
    "        break"
   ]
  },
  {
   "cell_type": "code",
   "execution_count": 5,
   "id": "f3e03aad-6b3b-480b-b302-95f0242a14d0",
   "metadata": {},
   "outputs": [
    {
     "ename": "AttributeError",
     "evalue": "module 'cv2' has no attribute 'INTER_NEAREST'",
     "output_type": "error",
     "traceback": [
      "\u001b[0;31m---------------------------------------------------------------------------\u001b[0m",
      "\u001b[0;31mAttributeError\u001b[0m                            Traceback (most recent call last)",
      "Cell \u001b[0;32mIn[5], line 1\u001b[0m\n\u001b[0;32m----> 1\u001b[0m \u001b[38;5;28;01mimport\u001b[39;00m \u001b[38;5;21;01mkeras_ocr\u001b[39;00m\n\u001b[1;32m      2\u001b[0m \u001b[38;5;28;01mimport\u001b[39;00m \u001b[38;5;21;01mmatplotlib\u001b[39;00m\u001b[38;5;21;01m.\u001b[39;00m\u001b[38;5;21;01mpyplot\u001b[39;00m \u001b[38;5;28;01mas\u001b[39;00m \u001b[38;5;21;01mplt\u001b[39;00m\n",
      "File \u001b[0;32m/usr/local/lib/python3.11/dist-packages/keras_ocr/__init__.py:1\u001b[0m\n\u001b[0;32m----> 1\u001b[0m \u001b[38;5;28;01mfrom\u001b[39;00m \u001b[38;5;21;01m.\u001b[39;00m \u001b[38;5;28;01mimport\u001b[39;00m (\n\u001b[1;32m      2\u001b[0m     detection,\n\u001b[1;32m      3\u001b[0m     recognition,\n\u001b[1;32m      4\u001b[0m     tools,\n\u001b[1;32m      5\u001b[0m     data_generation,\n\u001b[1;32m      6\u001b[0m     pipeline,\n\u001b[1;32m      7\u001b[0m     evaluation,\n\u001b[1;32m      8\u001b[0m     datasets,\n\u001b[1;32m      9\u001b[0m     config,\n\u001b[1;32m     10\u001b[0m )\n\u001b[1;32m     12\u001b[0m __version__ \u001b[38;5;241m=\u001b[39m \u001b[38;5;124m\"\u001b[39m\u001b[38;5;124m0.9.3\u001b[39m\u001b[38;5;124m\"\u001b[39m\n",
      "File \u001b[0;32m/usr/local/lib/python3.11/dist-packages/keras_ocr/detection.py:31\u001b[0m\n\u001b[1;32m     28\u001b[0m \u001b[38;5;28;01mimport\u001b[39;00m \u001b[38;5;21;01mefficientnet\u001b[39;00m\u001b[38;5;21;01m.\u001b[39;00m\u001b[38;5;21;01mtfkeras\u001b[39;00m \u001b[38;5;28;01mas\u001b[39;00m \u001b[38;5;21;01mefficientnet\u001b[39;00m\n\u001b[1;32m     29\u001b[0m \u001b[38;5;28;01mfrom\u001b[39;00m \u001b[38;5;21;01mtensorflow\u001b[39;00m \u001b[38;5;28;01mimport\u001b[39;00m keras\n\u001b[0;32m---> 31\u001b[0m \u001b[38;5;28;01mfrom\u001b[39;00m \u001b[38;5;21;01m.\u001b[39;00m \u001b[38;5;28;01mimport\u001b[39;00m tools\n\u001b[1;32m     34\u001b[0m \u001b[38;5;28;01mdef\u001b[39;00m \u001b[38;5;21mcompute_input\u001b[39m(image):\n\u001b[1;32m     35\u001b[0m     \u001b[38;5;66;03m# should be RGB order\u001b[39;00m\n\u001b[1;32m     36\u001b[0m     image \u001b[38;5;241m=\u001b[39m image\u001b[38;5;241m.\u001b[39mastype(\u001b[38;5;124m\"\u001b[39m\u001b[38;5;124mfloat32\u001b[39m\u001b[38;5;124m\"\u001b[39m)\n",
      "File \u001b[0;32m/usr/local/lib/python3.11/dist-packages/keras_ocr/tools.py:10\u001b[0m\n\u001b[1;32m      7\u001b[0m \u001b[38;5;28;01mimport\u001b[39;00m \u001b[38;5;21;01murllib\u001b[39;00m\u001b[38;5;21;01m.\u001b[39;00m\u001b[38;5;21;01mparse\u001b[39;00m\n\u001b[1;32m      9\u001b[0m \u001b[38;5;28;01mimport\u001b[39;00m \u001b[38;5;21;01mcv2\u001b[39;00m\n\u001b[0;32m---> 10\u001b[0m \u001b[38;5;28;01mimport\u001b[39;00m \u001b[38;5;21;01mimgaug\u001b[39;00m\n\u001b[1;32m     11\u001b[0m \u001b[38;5;28;01mimport\u001b[39;00m \u001b[38;5;21;01mnumpy\u001b[39;00m \u001b[38;5;28;01mas\u001b[39;00m \u001b[38;5;21;01mnp\u001b[39;00m\n\u001b[1;32m     12\u001b[0m \u001b[38;5;28;01mimport\u001b[39;00m \u001b[38;5;21;01mvalidators\u001b[39;00m\n",
      "File \u001b[0;32m/usr/local/lib/python3.11/dist-packages/imgaug/__init__.py:7\u001b[0m\n\u001b[1;32m      2\u001b[0m \u001b[38;5;28;01mfrom\u001b[39;00m \u001b[38;5;21;01m__future__\u001b[39;00m \u001b[38;5;28;01mimport\u001b[39;00m absolute_import\n\u001b[1;32m      4\u001b[0m \u001b[38;5;66;03m# this contains some deprecated classes/functions pointing to the new\u001b[39;00m\n\u001b[1;32m      5\u001b[0m \u001b[38;5;66;03m# classes/functions, hence always place the other imports below this so that\u001b[39;00m\n\u001b[1;32m      6\u001b[0m \u001b[38;5;66;03m# the deprecated stuff gets overwritten as much as possible\u001b[39;00m\n\u001b[0;32m----> 7\u001b[0m \u001b[38;5;28;01mfrom\u001b[39;00m \u001b[38;5;21;01mimgaug\u001b[39;00m\u001b[38;5;21;01m.\u001b[39;00m\u001b[38;5;21;01mimgaug\u001b[39;00m \u001b[38;5;28;01mimport\u001b[39;00m \u001b[38;5;241m*\u001b[39m  \u001b[38;5;66;03m# pylint: disable=redefined-builtin\u001b[39;00m\n\u001b[1;32m      9\u001b[0m \u001b[38;5;28;01mimport\u001b[39;00m \u001b[38;5;21;01mimgaug\u001b[39;00m\u001b[38;5;21;01m.\u001b[39;00m\u001b[38;5;21;01maugmentables\u001b[39;00m \u001b[38;5;28;01mas\u001b[39;00m \u001b[38;5;21;01maugmentables\u001b[39;00m\n\u001b[1;32m     10\u001b[0m \u001b[38;5;28;01mfrom\u001b[39;00m \u001b[38;5;21;01mimgaug\u001b[39;00m\u001b[38;5;21;01m.\u001b[39;00m\u001b[38;5;21;01maugmentables\u001b[39;00m \u001b[38;5;28;01mimport\u001b[39;00m \u001b[38;5;241m*\u001b[39m\n",
      "File \u001b[0;32m/usr/local/lib/python3.11/dist-packages/imgaug/imgaug.py:53\u001b[0m\n\u001b[1;32m     47\u001b[0m NP_UINT_TYPES \u001b[38;5;241m=\u001b[39m \u001b[38;5;28mset\u001b[39m(np\u001b[38;5;241m.\u001b[39msctypes[\u001b[38;5;124m\"\u001b[39m\u001b[38;5;124muint\u001b[39m\u001b[38;5;124m\"\u001b[39m])\n\u001b[1;32m     49\u001b[0m IMSHOW_BACKEND_DEFAULT \u001b[38;5;241m=\u001b[39m \u001b[38;5;124m\"\u001b[39m\u001b[38;5;124mmatplotlib\u001b[39m\u001b[38;5;124m\"\u001b[39m\n\u001b[1;32m     51\u001b[0m IMRESIZE_VALID_INTERPOLATIONS \u001b[38;5;241m=\u001b[39m [\n\u001b[1;32m     52\u001b[0m     \u001b[38;5;124m\"\u001b[39m\u001b[38;5;124mnearest\u001b[39m\u001b[38;5;124m\"\u001b[39m, \u001b[38;5;124m\"\u001b[39m\u001b[38;5;124mlinear\u001b[39m\u001b[38;5;124m\"\u001b[39m, \u001b[38;5;124m\"\u001b[39m\u001b[38;5;124marea\u001b[39m\u001b[38;5;124m\"\u001b[39m, \u001b[38;5;124m\"\u001b[39m\u001b[38;5;124mcubic\u001b[39m\u001b[38;5;124m\"\u001b[39m,\n\u001b[0;32m---> 53\u001b[0m     \u001b[43mcv2\u001b[49m\u001b[38;5;241;43m.\u001b[39;49m\u001b[43mINTER_NEAREST\u001b[49m, cv2\u001b[38;5;241m.\u001b[39mINTER_LINEAR, cv2\u001b[38;5;241m.\u001b[39mINTER_AREA, cv2\u001b[38;5;241m.\u001b[39mINTER_CUBIC]\n\u001b[1;32m     56\u001b[0m \u001b[38;5;66;03m###############################################################################\u001b[39;00m\n\u001b[1;32m     57\u001b[0m \u001b[38;5;66;03m# Helpers for deprecation\u001b[39;00m\n\u001b[1;32m     58\u001b[0m \u001b[38;5;66;03m###############################################################################\u001b[39;00m\n\u001b[1;32m     60\u001b[0m \u001b[38;5;28;01mclass\u001b[39;00m \u001b[38;5;21;01mDeprecationWarning\u001b[39;00m(\u001b[38;5;167;01mWarning\u001b[39;00m):  \u001b[38;5;66;03m# pylint: disable=redefined-builtin\u001b[39;00m\n",
      "\u001b[0;31mAttributeError\u001b[0m: module 'cv2' has no attribute 'INTER_NEAREST'"
     ]
    }
   ],
   "source": [
    "import keras_ocr\n",
    "import matplotlib.pyplot as plt"
   ]
  },
  {
   "cell_type": "code",
   "execution_count": null,
   "id": "b97e1e67-faa4-43cb-9129-b297a4f59dbd",
   "metadata": {},
   "outputs": [],
   "source": [
    "pipeline = keras_ocr.pipeline.Pipeline()"
   ]
  },
  {
   "cell_type": "code",
   "execution_count": 9,
   "id": "d6c39750-1f0e-4491-82c1-ee495f80b1f0",
   "metadata": {},
   "outputs": [],
   "source": [
    "image_filenames = [os.path.join(output_dir, f) for f in os.listdir(output_dir) if f.endswith('.png')]"
   ]
  },
  {
   "cell_type": "code",
   "execution_count": 10,
   "id": "8298ccf1-26c6-4522-ba96-4b3cb8f014ac",
   "metadata": {},
   "outputs": [],
   "source": [
    "images = [keras_ocr.tools.read(image_filename) for image_filename in image_filenames]"
   ]
  },
  {
   "cell_type": "code",
   "execution_count": 11,
   "id": "68104d62-a775-434f-acef-2c7213b8f98d",
   "metadata": {},
   "outputs": [
    {
     "name": "stdout",
     "output_type": "stream",
     "text": [
      "1/1 [==============================] - 2s 2s/step\n",
      "5/5 [==============================] - 0s 69ms/step\n"
     ]
    }
   ],
   "source": [
    "predictions = pipeline.recognize(images)"
   ]
  },
  {
   "cell_type": "code",
   "execution_count": 12,
   "id": "6adc300c-7611-4f1b-93ca-beac53c7a840",
   "metadata": {},
   "outputs": [
    {
     "name": "stdout",
     "output_type": "stream",
     "text": [
      "Predicted text:\n",
      "t\n",
      "xopymayyp\n",
      "xaw\n",
      "cypyh\n",
      "biwbitbiblra\n",
      "awih\n",
      "Predicted text:\n",
      "cypyuaapbl\n",
      "kanaapu\n",
      "oyhyh\n",
      "tblmhblbl\n",
      "myo\n",
      "Predicted text:\n",
      "cblh\n",
      "enlehep\n",
      "copoxtopro\n",
      "cyplyk\n",
      "koncuups\n",
      "Predicted text:\n",
      "cblaaapbleap\n",
      "xaaaaah\n",
      "amucka\n",
      "yaaxahhbk\n",
      "s\n",
      "Predicted text:\n",
      "6\n",
      "abamap\n",
      "kuhu\n",
      "kahhummih\n",
      "uhhuha\n",
      "h\n",
      "kamueap\n",
      "Predicted text:\n",
      "myoha\n",
      "ohyhyh\n",
      "gueh\n",
      "aamn\n",
      "yh\n",
      "yy\n",
      "Predicted text:\n",
      "hblh\n",
      "obohyh\n",
      "obapblk\n",
      "buup\n",
      "caxa\n",
      "cypyh\n",
      "Predicted text:\n",
      "obaublblbl\n",
      "oe\n",
      "cypyh\n",
      "myoxmyp\n",
      "caha\n",
      "upima\n",
      "Predicted text:\n",
      "oho5y\n",
      "ycmama\n",
      "kemytyek\n",
      "kypaahax\n",
      "Predicted text:\n",
      "jbaakka\n",
      "zaat816\n",
      "slaapbl\n",
      "gjbimaapbl\n",
      "Predicted text:\n",
      "16at\n",
      "bblhah\n",
      "byonnar\n",
      "apbl\n",
      "xaibl\n",
      "aaybinap\n",
      "bl\n",
      "Predicted text:\n",
      "pdepep\n",
      "cblhblam\n",
      "caxa\n",
      "m\n",
      "mbiabieap\n",
      "mahhblk\n",
      "Predicted text:\n",
      "ymtah\n",
      "uhhvrep\n",
      "onnoohhooh\n",
      "oniopoh\n",
      "Predicted text:\n",
      "apkemmrapagtp\n",
      "gyonapxoo\n",
      "kehhmep\n",
      "Predicted text:\n",
      "cabbidblaablhah\n",
      "dush\n",
      "yeckeabum\n",
      "ca\n",
      "rku\n",
      "mbliablh\n",
      "Predicted text:\n",
      "bavifajitah\n",
      "xotyty\n",
      "myyctaax\n",
      "t\n",
      "kojior\n",
      "Predicted text:\n",
      "cblhblam\n",
      "myoxmyyp\n",
      "myc\n",
      "myoxmyyp\n",
      "pe\n",
      "k\n",
      "Predicted text:\n",
      "tyopaahbi\n",
      "hhbi\n",
      "tbimhbibihbl\n",
      "atahha\n",
      "Predicted text:\n",
      "d\n",
      "xaablibiba\n",
      "cblhblam\n",
      "omymmymyk\n",
      "myoxmyp\n",
      "Predicted text:\n",
      "cbihblattyoxtyp\n",
      "fah\n",
      "yeckyyp\n",
      "copohop\n",
      "cups\n",
      "Predicted text:\n",
      "ypytgah\n",
      "cblhbiat\n",
      "tyoxtyypi\n",
      "ypyt\n",
      "5\n",
      "c\n",
      "Predicted text:\n",
      "myoha\n",
      "tyhop\n",
      "eiaobya\n",
      "ivioh\n",
      "yecke\n",
      "h\n",
      "toctoh\n",
      "Predicted text:\n",
      "myoha\n",
      "occe\n",
      "rap\n",
      "ohyc\n",
      "yyhop\n",
      "ivioh\n",
      "atojjip\n",
      "Predicted text:\n",
      "muuueh\n",
      "oypeyymah\n",
      "h\n",
      "mblmhblblhan\n",
      "mblblhah\n"
     ]
    }
   ],
   "source": [
    "for image, prediction in zip(images, predictions):\n",
    "    print(\"Predicted text:\")\n",
    "    for word, box in prediction:\n",
    "        print(word)"
   ]
  },
  {
   "cell_type": "code",
   "execution_count": null,
   "id": "c9b2543c-837b-4e5d-8964-75f4a24fd031",
   "metadata": {},
   "outputs": [
    {
     "name": "stdout",
     "output_type": "stream",
     "text": [
      "Looking for /root/.keras-ocr/craft_mlt_25k.h5\n"
     ]
    },
    {
     "name": "stderr",
     "output_type": "stream",
     "text": [
      "2024-10-02 03:11:29.219938: I tensorflow/core/platform/cpu_feature_guard.cc:193] This TensorFlow binary is optimized with oneAPI Deep Neural Network Library (oneDNN) to use the following CPU instructions in performance-critical operations:  AVX2 FMA\n",
      "To enable them in other operations, rebuild TensorFlow with the appropriate compiler flags.\n",
      "2024-10-02 03:11:31.790925: I tensorflow/core/common_runtime/gpu/gpu_device.cc:1616] Created device /job:localhost/replica:0/task:0/device:GPU:0 with 19458 MB memory:  -> device: 0, name: NVIDIA RTX A5000, pci bus id: 0000:01:00.0, compute capability: 8.6\n",
      "2024-10-02 03:11:31.791807: I tensorflow/core/common_runtime/gpu/gpu_device.cc:1616] Created device /job:localhost/replica:0/task:0/device:GPU:1 with 16858 MB memory:  -> device: 1, name: NVIDIA RTX A5000, pci bus id: 0000:24:00.0, compute capability: 8.6\n",
      "2024-10-02 03:11:31.792501: I tensorflow/core/common_runtime/gpu/gpu_device.cc:1616] Created device /job:localhost/replica:0/task:0/device:GPU:2 with 5422 MB memory:  -> device: 2, name: NVIDIA RTX A5000, pci bus id: 0000:41:00.0, compute capability: 8.6\n",
      "2024-10-02 03:11:31.793212: I tensorflow/core/common_runtime/gpu/gpu_device.cc:1616] Created device /job:localhost/replica:0/task:0/device:GPU:3 with 22333 MB memory:  -> device: 3, name: NVIDIA RTX A5000, pci bus id: 0000:61:00.0, compute capability: 8.6\n",
      "2024-10-02 03:11:31.793887: I tensorflow/core/common_runtime/gpu/gpu_device.cc:1616] Created device /job:localhost/replica:0/task:0/device:GPU:4 with 12927 MB memory:  -> device: 4, name: NVIDIA RTX A5000, pci bus id: 0000:a1:00.0, compute capability: 8.6\n"
     ]
    },
    {
     "name": "stdout",
     "output_type": "stream",
     "text": [
      "Looking for /root/.keras-ocr/crnn_kurapan.h5\n",
      "Downloading /root/.keras-ocr/crnn_kurapan.h5\n"
     ]
    }
   ],
   "source": [
    "import matplotlib.pyplot as plt\n",
    "\n",
    "import keras_ocr\n",
    "\n",
    "# keras-ocr will automatically download pretrained\n",
    "# weights for the detector and recognizer.\n",
    "pipeline = keras_ocr.pipeline.Pipeline()\n",
    "\n",
    "# Get a set of three example images\n",
    "images = [\n",
    "    keras_ocr.tools.read(url) for url in [\n",
    "        'https://upload.wikimedia.org/wikipedia/commons/b/bd/Army_Reserves_Recruitment_Banner_MOD_45156284.jpg',\n",
    "        'https://upload.wikimedia.org/wikipedia/commons/b/b4/EUBanana-500x112.jpg'\n",
    "    ]\n",
    "]"
   ]
  },
  {
   "cell_type": "code",
   "execution_count": null,
   "id": "892bcbcd-cf7b-450e-b53e-bfcceeecb836",
   "metadata": {},
   "outputs": [],
   "source": [
    "# Each list of predictions in prediction_groups is a list of\n",
    "# (word, box) tuples.\n",
    "prediction_groups = pipeline.recognize(images)\n",
    "\n",
    "# Plot the predictions\n",
    "fig, axs = plt.subplots(nrows=len(images), figsize=(20, 20))\n",
    "for ax, image, predictions in zip(axs, images, prediction_groups):\n",
    "    keras_ocr.tools.drawAnnotations(image=image, predictions=predictions, ax=ax)"
   ]
  },
  {
   "cell_type": "code",
   "execution_count": null,
   "id": "dfb43900-d262-4860-8434-dc66c91eccaa",
   "metadata": {},
   "outputs": [],
   "source": []
  }
 ],
 "metadata": {
  "kernelspec": {
   "display_name": "Python 3 (ipykernel)",
   "language": "python",
   "name": "python3"
  },
  "language_info": {
   "codemirror_mode": {
    "name": "ipython",
    "version": 3
   },
   "file_extension": ".py",
   "mimetype": "text/x-python",
   "name": "python",
   "nbconvert_exporter": "python",
   "pygments_lexer": "ipython3",
   "version": "3.8.10"
  }
 },
 "nbformat": 4,
 "nbformat_minor": 5
}
