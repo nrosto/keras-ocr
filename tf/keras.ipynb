{
 "cells": [
  {
   "cell_type": "code",
   "execution_count": 1,
   "id": "874c360e-a025-4e81-8925-553c02b308c2",
   "metadata": {},
   "outputs": [
    {
     "name": "stderr",
     "output_type": "stream",
     "text": [
      "2024-09-24 01:36:44.210901: E external/local_xla/xla/stream_executor/cuda/cuda_fft.cc:485] Unable to register cuFFT factory: Attempting to register factory for plugin cuFFT when one has already been registered\n",
      "2024-09-24 01:36:44.227759: E external/local_xla/xla/stream_executor/cuda/cuda_dnn.cc:8454] Unable to register cuDNN factory: Attempting to register factory for plugin cuDNN when one has already been registered\n",
      "2024-09-24 01:36:44.232976: E external/local_xla/xla/stream_executor/cuda/cuda_blas.cc:1452] Unable to register cuBLAS factory: Attempting to register factory for plugin cuBLAS when one has already been registered\n",
      "2024-09-24 01:36:44.246126: I tensorflow/core/platform/cpu_feature_guard.cc:210] This TensorFlow binary is optimized to use available CPU instructions in performance-critical operations.\n",
      "To enable the following instructions: AVX2 FMA, in other operations, rebuild TensorFlow with the appropriate compiler flags.\n"
     ]
    }
   ],
   "source": [
    "import tensorflow as tf"
   ]
  },
  {
   "cell_type": "code",
   "execution_count": 2,
   "id": "25d231f2-4a2f-45ba-b923-967d179c10d5",
   "metadata": {},
   "outputs": [
    {
     "name": "stdout",
     "output_type": "stream",
     "text": [
      "Найдено GPU: PhysicalDevice(name='/physical_device:GPU:0', device_type='GPU')\n",
      "Найдено GPU: PhysicalDevice(name='/physical_device:GPU:1', device_type='GPU')\n",
      "Найдено GPU: PhysicalDevice(name='/physical_device:GPU:2', device_type='GPU')\n",
      "Найдено GPU: PhysicalDevice(name='/physical_device:GPU:3', device_type='GPU')\n",
      "Найдено GPU: PhysicalDevice(name='/physical_device:GPU:4', device_type='GPU')\n"
     ]
    }
   ],
   "source": [
    "gpus = tf.config.list_physical_devices('GPU')\n",
    "if gpus:\n",
    "    for gpu in gpus:\n",
    "        print(\"Найдено GPU:\", gpu)\n",
    "else:\n",
    "    print(\"GPU не обнаружены\")"
   ]
  },
  {
   "cell_type": "code",
   "execution_count": 3,
   "id": "10c9bb47-460a-4d3c-a4e1-a12e0da68782",
   "metadata": {},
   "outputs": [],
   "source": [
    "import keras_ocr\n",
    "from PIL import Image, ImageDraw, ImageFont\n",
    "import os"
   ]
  },
  {
   "cell_type": "code",
   "execution_count": 18,
   "id": "fc843b14-f907-4c25-a26e-6d26b2374dc0",
   "metadata": {},
   "outputs": [],
   "source": [
    "data_dir = 'text'\n",
    "wordlist_file = os.path.join(data_dir, 'sah.wordlist')\n",
    "training_text_file = os.path.join(data_dir, 'sah.training_text')\n",
    "fonts_list_file = os.path.join(data_dir, 'okfonts.txt')"
   ]
  },
  {
   "cell_type": "code",
   "execution_count": 19,
   "id": "a98c9309-e1ab-4a71-a453-e23d9c729475",
   "metadata": {},
   "outputs": [],
   "source": [
    "with open(wordlist_file, 'r', encoding='utf-8') as f:\n",
    "    words = f.readlines()\n",
    "\n",
    "with open(training_text_file, 'r', encoding='utf-8') as f:\n",
    "    training_text = f.readlines()\n",
    "\n",
    "with open(fonts_list_file, 'r', encoding='utf-8') as f:\n",
    "    fonts = [font.strip() for font in f.readlines()]"
   ]
  },
  {
   "cell_type": "code",
   "execution_count": null,
   "id": "ce79c1db-38b3-4e19-b725-89e4005a073d",
   "metadata": {},
   "outputs": [],
   "source": []
  }
 ],
 "metadata": {
  "kernelspec": {
   "display_name": "Python 3 (ipykernel)",
   "language": "python",
   "name": "python3"
  },
  "language_info": {
   "codemirror_mode": {
    "name": "ipython",
    "version": 3
   },
   "file_extension": ".py",
   "mimetype": "text/x-python",
   "name": "python",
   "nbconvert_exporter": "python",
   "pygments_lexer": "ipython3",
   "version": "3.11.0rc1"
  }
 },
 "nbformat": 4,
 "nbformat_minor": 5
}
