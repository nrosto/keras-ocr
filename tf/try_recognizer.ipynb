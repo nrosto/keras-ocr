{
 "cells": [
  {
   "cell_type": "code",
   "execution_count": 1,
   "id": "b8134a9b-4bde-441f-899d-25cc3c87b0bf",
   "metadata": {},
   "outputs": [
    {
     "name": "stderr",
     "output_type": "stream",
     "text": [
      "2024-10-02 00:04:25.951092: I tensorflow/core/platform/cpu_feature_guard.cc:193] This TensorFlow binary is optimized with oneAPI Deep Neural Network Library (oneDNN) to use the following CPU instructions in performance-critical operations:  AVX2 FMA\n",
      "To enable them in other operations, rebuild TensorFlow with the appropriate compiler flags.\n",
      "2024-10-02 00:04:26.130697: E tensorflow/stream_executor/cuda/cuda_blas.cc:2981] Unable to register cuBLAS factory: Attempting to register factory for plugin cuBLAS when one has already been registered\n"
     ]
    }
   ],
   "source": [
    "import os\n",
    "import datetime\n",
    "import string\n",
    "import math\n",
    "import random\n",
    "import tensorflow as tf\n",
    "import sklearn.model_selection\n",
    "import matplotlib.pyplot as plt\n",
    "import keras_ocr"
   ]
  },
  {
   "cell_type": "code",
   "execution_count": 13,
   "id": "5a963539-f4ef-4156-b064-7320429e9477",
   "metadata": {},
   "outputs": [
    {
     "data": {
      "text/plain": [
       "'2.10.0'"
      ]
     },
     "execution_count": 13,
     "metadata": {},
     "output_type": "execute_result"
    }
   ],
   "source": [
    "tf.__version__"
   ]
  },
  {
   "cell_type": "code",
   "execution_count": 2,
   "id": "8a2283c6-d2ca-4db3-8703-8405877d43f5",
   "metadata": {},
   "outputs": [],
   "source": [
    "# Установка директории с данными\n",
    "data_dir = 'text'\n",
    "\n",
    "# Алфавит якутского языка\n",
    "alphabet = 'абвгдеёжзийклмнопрстуфхцчшщъыьэюяҕҥөһү '\n",
    "recognizer_alphabet = ''.join(sorted(set(alphabet.lower())))\n",
    "\n",
    "# Пути к файлам данных\n",
    "wordlist_file = os.path.join(data_dir, 'sah.wordlist')\n",
    "fonts_list_file = os.path.join(data_dir, 'okfonts_test.txt')\n",
    "fonts_dir = os.path.join(data_dir, 'fonts')"
   ]
  },
  {
   "cell_type": "code",
   "execution_count": 3,
   "id": "02a67489-6245-489e-b8c4-71be76bc6192",
   "metadata": {},
   "outputs": [
    {
     "name": "stdout",
     "output_type": "stream",
     "text": [
      "Первый сгенерированный текст: аҕа\n"
     ]
    }
   ],
   "source": [
    "# Загрузка списка слов из файла wordlist_file\n",
    "with open(wordlist_file, 'r', encoding='utf-8') as f:\n",
    "    word_list = [line.strip() for line in f if line.strip()]\n",
    "\n",
    "# Создание генератора текста\n",
    "def get_text_generator(words):\n",
    "    while True:\n",
    "        for word in words:\n",
    "            yield word\n",
    "\n",
    "text_generator = get_text_generator(word_list)\n",
    "print('Первый сгенерированный текст:', next(text_generator))"
   ]
  },
  {
   "cell_type": "code",
   "execution_count": 4,
   "id": "c279516d-53e5-49ac-a1d4-db7cc976130c",
   "metadata": {},
   "outputs": [
    {
     "name": "stdout",
     "output_type": "stream",
     "text": [
      "Количество найденных файлов шрифтов: 75\n"
     ]
    }
   ],
   "source": [
    "# Загрузка списка директорий шрифтов из файла fonts_list_file\n",
    "with open(fonts_list_file, 'r', encoding='utf-8') as f:\n",
    "    font_dir_names = [line.strip() for line in f if line.strip()]\n",
    "\n",
    "font_paths = []\n",
    "\n",
    "# Проходим по каждой директории и собираем файлы шрифтов\n",
    "for font_dir_name in font_dir_names:\n",
    "    font_dir_path = os.path.join(fonts_dir, font_dir_name)\n",
    "    if not os.path.isdir(font_dir_path):\n",
    "        print(f\"Директория {font_dir_path} не найдена. Пропускаем её.\")\n",
    "        continue\n",
    "    # Рекурсивно ищем файлы шрифтов в директории font_dir_path\n",
    "    for root, dirs, files in os.walk(font_dir_path):\n",
    "        for fname in files:\n",
    "            if fname.lower().endswith(('.ttf', '.otf')):\n",
    "                font_path = os.path.join(root, fname)\n",
    "                font_paths.append(font_path)\n",
    "\n",
    "# Вывод количества найденных шрифтов\n",
    "print(f\"Количество найденных файлов шрифтов: {len(font_paths)}\")"
   ]
  },
  {
   "cell_type": "code",
   "execution_count": 5,
   "id": "347866db-a381-4b54-b5e3-ec09d9f7677f",
   "metadata": {},
   "outputs": [],
   "source": [
    "# Разделение данных на тренировочные, валидационные и тестовые наборы\n",
    "def get_train_val_test_split(arr):\n",
    "    train, valtest = sklearn.model_selection.train_test_split(arr, train_size=0.8, random_state=42)\n",
    "    val, test = sklearn.model_selection.train_test_split(valtest, train_size=0.5, random_state=42)\n",
    "    return train, val, test\n",
    "\n",
    "# Разделение списка слов\n",
    "train_words, val_words, test_words = get_train_val_test_split(word_list)\n",
    "\n",
    "# Разделение шрифтов\n",
    "train_fonts, val_fonts, test_fonts = get_train_val_test_split(font_paths)"
   ]
  },
  {
   "cell_type": "code",
   "execution_count": 6,
   "id": "48c00771-1848-4815-befa-cbe80d68986e",
   "metadata": {},
   "outputs": [],
   "source": [
    "# backgrounds = keras_ocr.data_generation.get_backgrounds(cache_dir=data_dir)\n",
    "\n",
    "# Создание генераторов изображений без фонов\n",
    "font_splits = [train_fonts, val_fonts, test_fonts]\n",
    "\n",
    "image_generators = [\n",
    "    keras_ocr.data_generation.get_image_generator(\n",
    "        height=640,\n",
    "        width=640,\n",
    "        text_generator=text_generator,\n",
    "        font_groups={\n",
    "            char: current_fonts for char in recognizer_alphabet\n",
    "        },\n",
    "        backgrounds=None,\n",
    "        font_size=(60, 120),\n",
    "        margin=50,\n",
    "        rotationX=(-0.05, 0.05),\n",
    "        rotationY=(-0.05, 0.05),\n",
    "        rotationZ=(-15, 15)\n",
    "    ) for current_fonts in font_splits\n",
    "]"
   ]
  },
  {
   "cell_type": "code",
   "execution_count": 7,
   "id": "f5c00de2-b1c1-4acd-be84-376b44fab224",
   "metadata": {},
   "outputs": [
    {
     "name": "stdout",
     "output_type": "stream",
     "text": [
      "Первое сгенерированное валидационное изображение содержит текст: аҕ\n",
      "алаллар\n"
     ]
    },
    {
     "data": {
      "image/png": "[encoded data removed]",
      "text/plain": [
       "<Figure size 640x480 with 1 Axes>"
      ]
     },
     "metadata": {},
     "output_type": "display_data"
    }
   ],
   "source": [
    "# Проверим первое сгенерированное изображение без фона\n",
    "image, lines = next(image_generators[1])\n",
    "text = keras_ocr.data_generation.convert_lines_to_paragraph(lines)\n",
    "print('Первое сгенерированное валидационное изображение содержит текст:', text)\n",
    "plt.imshow(image)\n",
    "plt.axis('off')\n",
    "plt.show()"
   ]
  },
  {
   "cell_type": "code",
   "execution_count": 8,
   "id": "eb80bbed-f908-41b7-bc98-2fb71c57f6ef",
   "metadata": {},
   "outputs": [
    {
     "name": "stderr",
     "output_type": "stream",
     "text": [
      "2024-10-02 00:04:28.674160: E tensorflow/stream_executor/cuda/cuda_driver.cc:265] failed call to cuInit: CUDA_ERROR_NO_DEVICE: no CUDA-capable device is detected\n",
      "2024-10-02 00:04:28.674205: I tensorflow/stream_executor/cuda/cuda_diagnostics.cc:169] retrieving CUDA diagnostic information for host: e24d1dc5ca34\n",
      "2024-10-02 00:04:28.674213: I tensorflow/stream_executor/cuda/cuda_diagnostics.cc:176] hostname: e24d1dc5ca34\n",
      "2024-10-02 00:04:28.674429: I tensorflow/stream_executor/cuda/cuda_diagnostics.cc:200] libcuda reported version is: NOT_FOUND: was unable to find libcuda.so DSO loaded into this program\n",
      "2024-10-02 00:04:28.674451: I tensorflow/stream_executor/cuda/cuda_diagnostics.cc:204] kernel reported version is: 535.104.12\n",
      "2024-10-02 00:04:28.675074: I tensorflow/core/platform/cpu_feature_guard.cc:193] This TensorFlow binary is optimized with oneAPI Deep Neural Network Library (oneDNN) to use the following CPU instructions in performance-critical operations:  AVX2 FMA\n",
      "To enable them in other operations, rebuild TensorFlow with the appropriate compiler flags.\n"
     ]
    }
   ],
   "source": [
    "# Создание распознавателя\n",
    "recognizer = keras_ocr.recognition.Recognizer(\n",
    "    alphabet=recognizer_alphabet,\n",
    "    weights=None  # Обучение с нуля\n",
    ")\n",
    "recognizer.compile()"
   ]
  },
  {
   "cell_type": "code",
   "execution_count": 9,
   "id": "6dd221bf-ce8f-4cb5-ba61-62f87605d57f",
   "metadata": {},
   "outputs": [],
   "source": [
    "# Подготовка данных для обучения распознавателя\n",
    "max_length = 15\n",
    "\n",
    "recognition_image_generators = [\n",
    "    keras_ocr.data_generation.convert_image_generator_to_recognizer_input(\n",
    "        image_generator=image_generator,\n",
    "        max_string_length=min(recognizer.training_model.input_shape[1][1], max_length),\n",
    "        target_width=recognizer.model.input_shape[2],\n",
    "        target_height=recognizer.model.input_shape[1],\n",
    "        margin=0\n",
    "    ) for image_generator in image_generators\n",
    "]"
   ]
  },
  {
   "cell_type": "code",
   "execution_count": 10,
   "id": "6abaa3b4-e0cb-4a2c-905a-cd92f376cc19",
   "metadata": {},
   "outputs": [
    {
     "name": "stdout",
     "output_type": "stream",
     "text": [
      "Это изображение содержит текст: аҕа\n"
     ]
    },
    {
     "data": {
      "image/png": "[encoded data removed]",
      "text/plain": [
       "<Figure size 640x480 with 1 Axes>"
      ]
     },
     "metadata": {},
     "output_type": "display_data"
    }
   ],
   "source": [
    "# Посмотрим, как выглядит первое сгенерированное изображение для распознавателя валидационной выборки\n",
    "image, text = next(recognition_image_generators[1])\n",
    "print('Это изображение содержит текст:', text)\n",
    "plt.imshow(image)\n",
    "plt.axis('off')\n",
    "plt.show()"
   ]
  },
  {
   "cell_type": "code",
   "execution_count": 11,
   "id": "c1416a77-f93c-4f97-9ca0-09dec26f8fcc",
   "metadata": {},
   "outputs": [],
   "source": [
    "# Создание генераторов батчей для распознавателя\n",
    "recognition_batch_size = 2\n",
    "recognizer_basepath = os.path.join(data_dir, f'recognizer_{datetime.datetime.now().isoformat()}')\n",
    "\n",
    "recognition_train_generator, recognition_val_generator, recognition_test_generator = [\n",
    "    recognizer.get_batch_generator(\n",
    "        image_generator=image_generator,\n",
    "        batch_size=recognition_batch_size,\n",
    "        lowercase=True\n",
    "    ) for image_generator in recognition_image_generators\n",
    "]"
   ]
  },
  {
   "cell_type": "code",
   "execution_count": 12,
   "id": "6db4de6e-a21a-4e61-97a9-205223ec9e87",
   "metadata": {},
   "outputs": [
    {
     "name": "stdout",
     "output_type": "stream",
     "text": [
      "Epoch 1/100\n",
      "1000/1000 [==============================] - 404s 398ms/step - loss: 12.8590 - val_loss: 15.7041\n",
      "Epoch 2/100\n",
      "1000/1000 [==============================] - 394s 394ms/step - loss: 12.0785 - val_loss: 12.4505\n",
      "Epoch 3/100\n",
      " 958/1000 [===========================>..] - ETA: 15s - loss: 13.2011"
     ]
    },
    {
     "name": "stderr",
     "output_type": "stream",
     "text": [
      "2024-10-02 00:23:38.771471: W tensorflow/core/framework/op_kernel.cc:1768] UNKNOWN: RuntimeError: generator raised StopIteration\n",
      "Traceback (most recent call last):\n",
      "\n",
      "  File \"/usr/local/lib/python3.8/dist-packages/keras_ocr/data_generation.py\", line 700, in get_image_generator\n",
      "    text_image, lines = draw_text_image(\n",
      "\n",
      "  File \"/usr/local/lib/python3.8/dist-packages/keras_ocr/data_generation.py\", line 387, in draw_text_image\n",
      "    character_font_pairs = [\n",
      "\n",
      "  File \"/usr/local/lib/python3.8/dist-packages/keras_ocr/data_generation.py\", line 390, in <listcomp>\n",
      "    next(\n",
      "\n",
      "StopIteration\n",
      "\n",
      "\n",
      "The above exception was the direct cause of the following exception:\n",
      "\n",
      "\n",
      "Traceback (most recent call last):\n",
      "\n",
      "  File \"/usr/local/lib/python3.8/dist-packages/tensorflow/python/ops/script_ops.py\", line 271, in __call__\n",
      "    ret = func(*args)\n",
      "\n",
      "  File \"/usr/local/lib/python3.8/dist-packages/tensorflow/python/autograph/impl/api.py\", line 642, in wrapper\n",
      "    return func(*args, **kwargs)\n",
      "\n",
      "  File \"/usr/local/lib/python3.8/dist-packages/tensorflow/python/data/ops/dataset_ops.py\", line 1035, in generator_py_func\n",
      "    values = next(generator_state.get_iterator(iterator_id))\n",
      "\n",
      "  File \"/usr/local/lib/python3.8/dist-packages/keras/engine/data_adapter.py\", line 903, in wrapped_generator\n",
      "    for data in generator_fn():\n",
      "\n",
      "  File \"/usr/local/lib/python3.8/dist-packages/keras_ocr/recognition.py\", line 433, in get_batch_generator\n",
      "    batch = [sample for sample, _ in zip(image_generator, range(batch_size))]\n",
      "\n",
      "  File \"/usr/local/lib/python3.8/dist-packages/keras_ocr/recognition.py\", line 433, in <listcomp>\n",
      "    batch = [sample for sample, _ in zip(image_generator, range(batch_size))]\n",
      "\n",
      "  File \"/usr/local/lib/python3.8/dist-packages/keras_ocr/data_generation.py\", line 293, in convert_image_generator_to_recognizer_input\n",
      "    image, lines = next(image_generator)\n",
      "\n",
      "RuntimeError: generator raised StopIteration\n",
      "\n",
      "\n"
     ]
    },
    {
     "ename": "UnknownError",
     "evalue": "Graph execution error:\n\nRuntimeError: generator raised StopIteration\nTraceback (most recent call last):\n\n  File \"/usr/local/lib/python3.8/dist-packages/keras_ocr/data_generation.py\", line 700, in get_image_generator\n    text_image, lines = draw_text_image(\n\n  File \"/usr/local/lib/python3.8/dist-packages/keras_ocr/data_generation.py\", line 387, in draw_text_image\n    character_font_pairs = [\n\n  File \"/usr/local/lib/python3.8/dist-packages/keras_ocr/data_generation.py\", line 390, in <listcomp>\n    next(\n\nStopIteration\n\n\nThe above exception was the direct cause of the following exception:\n\n\nTraceback (most recent call last):\n\n  File \"/usr/local/lib/python3.8/dist-packages/tensorflow/python/ops/script_ops.py\", line 271, in __call__\n    ret = func(*args)\n\n  File \"/usr/local/lib/python3.8/dist-packages/tensorflow/python/autograph/impl/api.py\", line 642, in wrapper\n    return func(*args, **kwargs)\n\n  File \"/usr/local/lib/python3.8/dist-packages/tensorflow/python/data/ops/dataset_ops.py\", line 1035, in generator_py_func\n    values = next(generator_state.get_iterator(iterator_id))\n\n  File \"/usr/local/lib/python3.8/dist-packages/keras/engine/data_adapter.py\", line 903, in wrapped_generator\n    for data in generator_fn():\n\n  File \"/usr/local/lib/python3.8/dist-packages/keras_ocr/recognition.py\", line 433, in get_batch_generator\n    batch = [sample for sample, _ in zip(image_generator, range(batch_size))]\n\n  File \"/usr/local/lib/python3.8/dist-packages/keras_ocr/recognition.py\", line 433, in <listcomp>\n    batch = [sample for sample, _ in zip(image_generator, range(batch_size))]\n\n  File \"/usr/local/lib/python3.8/dist-packages/keras_ocr/data_generation.py\", line 293, in convert_image_generator_to_recognizer_input\n    image, lines = next(image_generator)\n\nRuntimeError: generator raised StopIteration\n\n\n\t [[{{node PyFunc}}]]\n\t [[IteratorGetNext]] [Op:__inference_train_function_15078]",
     "output_type": "error",
     "traceback": [
      "\u001b[0;31m---------------------------------------------------------------------------\u001b[0m",
      "\u001b[0;31mUnknownError\u001b[0m                              Traceback (most recent call last)",
      "Cell \u001b[0;32mIn[12], line 5\u001b[0m\n\u001b[1;32m      2\u001b[0m val_steps \u001b[38;5;241m=\u001b[39m \u001b[38;5;241m200\u001b[39m\n\u001b[1;32m      4\u001b[0m \u001b[38;5;66;03m# Обучение распознавателя\u001b[39;00m\n\u001b[0;32m----> 5\u001b[0m \u001b[43mrecognizer\u001b[49m\u001b[38;5;241;43m.\u001b[39;49m\u001b[43mtraining_model\u001b[49m\u001b[38;5;241;43m.\u001b[39;49m\u001b[43mfit\u001b[49m\u001b[43m(\u001b[49m\n\u001b[1;32m      6\u001b[0m \u001b[43m    \u001b[49m\u001b[43mrecognition_train_generator\u001b[49m\u001b[43m,\u001b[49m\n\u001b[1;32m      7\u001b[0m \u001b[43m    \u001b[49m\u001b[43mepochs\u001b[49m\u001b[38;5;241;43m=\u001b[39;49m\u001b[38;5;241;43m100\u001b[39;49m\u001b[43m,\u001b[49m\n\u001b[1;32m      8\u001b[0m \u001b[43m    \u001b[49m\u001b[43msteps_per_epoch\u001b[49m\u001b[38;5;241;43m=\u001b[39;49m\u001b[43mtrain_steps\u001b[49m\u001b[43m,\u001b[49m\n\u001b[1;32m      9\u001b[0m \u001b[43m    \u001b[49m\u001b[43mcallbacks\u001b[49m\u001b[38;5;241;43m=\u001b[39;49m\u001b[43m[\u001b[49m\n\u001b[1;32m     10\u001b[0m \u001b[43m        \u001b[49m\u001b[43mtf\u001b[49m\u001b[38;5;241;43m.\u001b[39;49m\u001b[43mkeras\u001b[49m\u001b[38;5;241;43m.\u001b[39;49m\u001b[43mcallbacks\u001b[49m\u001b[38;5;241;43m.\u001b[39;49m\u001b[43mEarlyStopping\u001b[49m\u001b[43m(\u001b[49m\u001b[43mrestore_best_weights\u001b[49m\u001b[38;5;241;43m=\u001b[39;49m\u001b[38;5;28;43;01mTrue\u001b[39;49;00m\u001b[43m,\u001b[49m\u001b[43m \u001b[49m\u001b[43mpatience\u001b[49m\u001b[38;5;241;43m=\u001b[39;49m\u001b[38;5;241;43m25\u001b[39;49m\u001b[43m)\u001b[49m\u001b[43m,\u001b[49m\n\u001b[1;32m     11\u001b[0m \u001b[43m        \u001b[49m\u001b[43mtf\u001b[49m\u001b[38;5;241;43m.\u001b[39;49m\u001b[43mkeras\u001b[49m\u001b[38;5;241;43m.\u001b[39;49m\u001b[43mcallbacks\u001b[49m\u001b[38;5;241;43m.\u001b[39;49m\u001b[43mCSVLogger\u001b[49m\u001b[43m(\u001b[49m\u001b[38;5;124;43mf\u001b[39;49m\u001b[38;5;124;43m'\u001b[39;49m\u001b[38;5;132;43;01m{\u001b[39;49;00m\u001b[43mrecognizer_basepath\u001b[49m\u001b[38;5;132;43;01m}\u001b[39;49;00m\u001b[38;5;124;43m.csv\u001b[39;49m\u001b[38;5;124;43m'\u001b[39;49m\u001b[43m,\u001b[49m\u001b[43m \u001b[49m\u001b[43mappend\u001b[49m\u001b[38;5;241;43m=\u001b[39;49m\u001b[38;5;28;43;01mTrue\u001b[39;49;00m\u001b[43m)\u001b[49m\u001b[43m,\u001b[49m\n\u001b[1;32m     12\u001b[0m \u001b[43m        \u001b[49m\u001b[43mtf\u001b[49m\u001b[38;5;241;43m.\u001b[39;49m\u001b[43mkeras\u001b[49m\u001b[38;5;241;43m.\u001b[39;49m\u001b[43mcallbacks\u001b[49m\u001b[38;5;241;43m.\u001b[39;49m\u001b[43mModelCheckpoint\u001b[49m\u001b[43m(\u001b[49m\u001b[43mfilepath\u001b[49m\u001b[38;5;241;43m=\u001b[39;49m\u001b[38;5;124;43mf\u001b[39;49m\u001b[38;5;124;43m'\u001b[39;49m\u001b[38;5;132;43;01m{\u001b[39;49;00m\u001b[43mrecognizer_basepath\u001b[49m\u001b[38;5;132;43;01m}\u001b[39;49;00m\u001b[38;5;124;43m.h5\u001b[39;49m\u001b[38;5;124;43m'\u001b[39;49m\u001b[43m)\u001b[49m\n\u001b[1;32m     13\u001b[0m \u001b[43m    \u001b[49m\u001b[43m]\u001b[49m\u001b[43m,\u001b[49m\n\u001b[1;32m     14\u001b[0m \u001b[43m    \u001b[49m\u001b[43mvalidation_data\u001b[49m\u001b[38;5;241;43m=\u001b[39;49m\u001b[43mrecognition_val_generator\u001b[49m\u001b[43m,\u001b[49m\n\u001b[1;32m     15\u001b[0m \u001b[43m    \u001b[49m\u001b[43mvalidation_steps\u001b[49m\u001b[38;5;241;43m=\u001b[39;49m\u001b[43mval_steps\u001b[49m\u001b[43m,\u001b[49m\n\u001b[1;32m     16\u001b[0m \u001b[43m    \u001b[49m\u001b[43mworkers\u001b[49m\u001b[38;5;241;43m=\u001b[39;49m\u001b[38;5;241;43m0\u001b[39;49m\u001b[43m,\u001b[49m\n\u001b[1;32m     17\u001b[0m \u001b[43m    \u001b[49m\u001b[43mbatch_size\u001b[49m\u001b[38;5;241;43m=\u001b[39;49m\u001b[43mrecognition_batch_size\u001b[49m\n\u001b[1;32m     18\u001b[0m \u001b[43m)\u001b[49m\n",
      "File \u001b[0;32m/usr/local/lib/python3.8/dist-packages/keras/utils/traceback_utils.py:70\u001b[0m, in \u001b[0;36mfilter_traceback.<locals>.error_handler\u001b[0;34m(*args, **kwargs)\u001b[0m\n\u001b[1;32m     67\u001b[0m     filtered_tb \u001b[38;5;241m=\u001b[39m _process_traceback_frames(e\u001b[38;5;241m.\u001b[39m__traceback__)\n\u001b[1;32m     68\u001b[0m     \u001b[38;5;66;03m# To get the full stack trace, call:\u001b[39;00m\n\u001b[1;32m     69\u001b[0m     \u001b[38;5;66;03m# `tf.debugging.disable_traceback_filtering()`\u001b[39;00m\n\u001b[0;32m---> 70\u001b[0m     \u001b[38;5;28;01mraise\u001b[39;00m e\u001b[38;5;241m.\u001b[39mwith_traceback(filtered_tb) \u001b[38;5;28;01mfrom\u001b[39;00m \u001b[38;5;28;01mNone\u001b[39;00m\n\u001b[1;32m     71\u001b[0m \u001b[38;5;28;01mfinally\u001b[39;00m:\n\u001b[1;32m     72\u001b[0m     \u001b[38;5;28;01mdel\u001b[39;00m filtered_tb\n",
      "File \u001b[0;32m/usr/local/lib/python3.8/dist-packages/tensorflow/python/eager/execute.py:54\u001b[0m, in \u001b[0;36mquick_execute\u001b[0;34m(op_name, num_outputs, inputs, attrs, ctx, name)\u001b[0m\n\u001b[1;32m     52\u001b[0m \u001b[38;5;28;01mtry\u001b[39;00m:\n\u001b[1;32m     53\u001b[0m   ctx\u001b[38;5;241m.\u001b[39mensure_initialized()\n\u001b[0;32m---> 54\u001b[0m   tensors \u001b[38;5;241m=\u001b[39m pywrap_tfe\u001b[38;5;241m.\u001b[39mTFE_Py_Execute(ctx\u001b[38;5;241m.\u001b[39m_handle, device_name, op_name,\n\u001b[1;32m     55\u001b[0m                                       inputs, attrs, num_outputs)\n\u001b[1;32m     56\u001b[0m \u001b[38;5;28;01mexcept\u001b[39;00m core\u001b[38;5;241m.\u001b[39m_NotOkStatusException \u001b[38;5;28;01mas\u001b[39;00m e:\n\u001b[1;32m     57\u001b[0m   \u001b[38;5;28;01mif\u001b[39;00m name \u001b[38;5;129;01mis\u001b[39;00m \u001b[38;5;129;01mnot\u001b[39;00m \u001b[38;5;28;01mNone\u001b[39;00m:\n",
      "\u001b[0;31mUnknownError\u001b[0m: Graph execution error:\n\nRuntimeError: generator raised StopIteration\nTraceback (most recent call last):\n\n  File \"/usr/local/lib/python3.8/dist-packages/keras_ocr/data_generation.py\", line 700, in get_image_generator\n    text_image, lines = draw_text_image(\n\n  File \"/usr/local/lib/python3.8/dist-packages/keras_ocr/data_generation.py\", line 387, in draw_text_image\n    character_font_pairs = [\n\n  File \"/usr/local/lib/python3.8/dist-packages/keras_ocr/data_generation.py\", line 390, in <listcomp>\n    next(\n\nStopIteration\n\n\nThe above exception was the direct cause of the following exception:\n\n\nTraceback (most recent call last):\n\n  File \"/usr/local/lib/python3.8/dist-packages/tensorflow/python/ops/script_ops.py\", line 271, in __call__\n    ret = func(*args)\n\n  File \"/usr/local/lib/python3.8/dist-packages/tensorflow/python/autograph/impl/api.py\", line 642, in wrapper\n    return func(*args, **kwargs)\n\n  File \"/usr/local/lib/python3.8/dist-packages/tensorflow/python/data/ops/dataset_ops.py\", line 1035, in generator_py_func\n    values = next(generator_state.get_iterator(iterator_id))\n\n  File \"/usr/local/lib/python3.8/dist-packages/keras/engine/data_adapter.py\", line 903, in wrapped_generator\n    for data in generator_fn():\n\n  File \"/usr/local/lib/python3.8/dist-packages/keras_ocr/recognition.py\", line 433, in get_batch_generator\n    batch = [sample for sample, _ in zip(image_generator, range(batch_size))]\n\n  File \"/usr/local/lib/python3.8/dist-packages/keras_ocr/recognition.py\", line 433, in <listcomp>\n    batch = [sample for sample, _ in zip(image_generator, range(batch_size))]\n\n  File \"/usr/local/lib/python3.8/dist-packages/keras_ocr/data_generation.py\", line 293, in convert_image_generator_to_recognizer_input\n    image, lines = next(image_generator)\n\nRuntimeError: generator raised StopIteration\n\n\n\t [[{{node PyFunc}}]]\n\t [[IteratorGetNext]] [Op:__inference_train_function_15078]"
     ]
    }
   ],
   "source": [
    "train_steps = 1000\n",
    "val_steps = 200\n",
    "\n",
    "# Обучение распознавателя\n",
    "recognizer.training_model.fit(\n",
    "    recognition_train_generator,\n",
    "    epochs=100,\n",
    "    steps_per_epoch=train_steps,\n",
    "    callbacks=[\n",
    "        tf.keras.callbacks.EarlyStopping(restore_best_weights=True, patience=25),\n",
    "        tf.keras.callbacks.CSVLogger(f'{recognizer_basepath}.csv', append=True),\n",
    "        tf.keras.callbacks.ModelCheckpoint(filepath=f'{recognizer_basepath}.h5')\n",
    "    ],\n",
    "    validation_data=recognition_val_generator,\n",
    "    validation_steps=val_steps,\n",
    "    workers=0,\n",
    "    batch_size=recognition_batch_size\n",
    ")"
   ]
  },
  {
   "cell_type": "code",
   "execution_count": null,
   "id": "d9659b70-73b0-40c9-811f-ad54e275f16d",
   "metadata": {},
   "outputs": [],
   "source": [
    "# Генерируем изображение из тестового генератора\n",
    "test_image_generator = recognition_image_generators[2]\n",
    "# Получаем одно изображение и соответствующий текст\n",
    "test_image, actual_text = next(test_image_generator)\n",
    "\n",
    "# Используем распознаватель для предсказания текста на изображении\n",
    "predicted_text = recognizer.recognize(test_image)\n",
    "\n",
    "print(f'Predicted: {predicted_text[0]}, Actual: {actual_text}')\n",
    "plt.imshow(test_image)\n",
    "plt.axis('off')\n",
    "plt.show()"
   ]
  },
  {
   "cell_type": "code",
   "execution_count": null,
   "id": "b1220e18-e3fc-4671-b690-9d294d0e57c9",
   "metadata": {},
   "outputs": [],
   "source": []
  }
 ],
 "metadata": {
  "kernelspec": {
   "display_name": "Python 3 (ipykernel)",
   "language": "python",
   "name": "python3"
  },
  "language_info": {
   "codemirror_mode": {
    "name": "ipython",
    "version": 3
   },
   "file_extension": ".py",
   "mimetype": "text/x-python",
   "name": "python",
   "nbconvert_exporter": "python",
   "pygments_lexer": "ipython3",
   "version": "3.8.10"
  }
 },
 "nbformat": 4,
 "nbformat_minor": 5
}
