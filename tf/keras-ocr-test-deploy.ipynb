{
 "cells": [
  {
   "cell_type": "code",
   "execution_count": 1,
   "id": "f9dee0c3-1e91-4f50-903b-345d56f05c9b",
   "metadata": {},
   "outputs": [
    {
     "name": "stderr",
     "output_type": "stream",
     "text": [
      "2024-09-26 04:52:31.982729: I tensorflow/core/platform/cpu_feature_guard.cc:193] This TensorFlow binary is optimized with oneAPI Deep Neural Network Library (oneDNN) to use the following CPU instructions in performance-critical operations:  AVX2 FMA\n",
      "To enable them in other operations, rebuild TensorFlow with the appropriate compiler flags.\n",
      "2024-09-26 04:52:32.152954: E tensorflow/stream_executor/cuda/cuda_blas.cc:2981] Unable to register cuBLAS factory: Attempting to register factory for plugin cuBLAS when one has already been registered\n"
     ]
    }
   ],
   "source": [
    "import os\n",
    "import keras_ocr\n",
    "import random\n",
    "from PIL import Image, ImageDraw, ImageFont"
   ]
  },
  {
   "cell_type": "code",
   "execution_count": 2,
   "id": "130c5877-a7c5-485a-a255-7c33ba3de492",
   "metadata": {},
   "outputs": [
    {
     "name": "stdout",
     "output_type": "stream",
     "text": [
      "Looking for /root/.keras-ocr/craft_mlt_25k.h5\n"
     ]
    },
    {
     "name": "stderr",
     "output_type": "stream",
     "text": [
      "2024-09-26 04:52:35.479761: I tensorflow/core/platform/cpu_feature_guard.cc:193] This TensorFlow binary is optimized with oneAPI Deep Neural Network Library (oneDNN) to use the following CPU instructions in performance-critical operations:  AVX2 FMA\n",
      "To enable them in other operations, rebuild TensorFlow with the appropriate compiler flags.\n",
      "2024-09-26 04:52:37.804944: I tensorflow/core/common_runtime/gpu/gpu_device.cc:1616] Created device /job:localhost/replica:0/task:0/device:GPU:0 with 19518 MB memory:  -> device: 0, name: NVIDIA RTX A5000, pci bus id: 0000:01:00.0, compute capability: 8.6\n",
      "2024-09-26 04:52:37.805775: I tensorflow/core/common_runtime/gpu/gpu_device.cc:1616] Created device /job:localhost/replica:0/task:0/device:GPU:1 with 22333 MB memory:  -> device: 1, name: NVIDIA RTX A5000, pci bus id: 0000:24:00.0, compute capability: 8.6\n",
      "2024-09-26 04:52:37.806426: I tensorflow/core/common_runtime/gpu/gpu_device.cc:1616] Created device /job:localhost/replica:0/task:0/device:GPU:2 with 22333 MB memory:  -> device: 2, name: NVIDIA RTX A5000, pci bus id: 0000:41:00.0, compute capability: 8.6\n",
      "2024-09-26 04:52:37.807108: I tensorflow/core/common_runtime/gpu/gpu_device.cc:1616] Created device /job:localhost/replica:0/task:0/device:GPU:3 with 22333 MB memory:  -> device: 3, name: NVIDIA RTX A5000, pci bus id: 0000:61:00.0, compute capability: 8.6\n",
      "2024-09-26 04:52:37.807746: I tensorflow/core/common_runtime/gpu/gpu_device.cc:1616] Created device /job:localhost/replica:0/task:0/device:GPU:4 with 22333 MB memory:  -> device: 4, name: NVIDIA RTX A5000, pci bus id: 0000:a1:00.0, compute capability: 8.6\n"
     ]
    },
    {
     "name": "stdout",
     "output_type": "stream",
     "text": [
      "Looking for /root/.keras-ocr/crnn_kurapan.h5\n"
     ]
    }
   ],
   "source": [
    "pipeline = keras_ocr.pipeline.Pipeline()"
   ]
  },
  {
   "cell_type": "code",
   "execution_count": 3,
   "id": "258c2b8e-b6f4-407e-9d61-3bd71f28a75f",
   "metadata": {},
   "outputs": [],
   "source": [
    "data_dir = 'text'\n",
    "\n",
    "wordlist_file = os.path.join(data_dir, 'sah.wordlist')\n",
    "training_text_file = os.path.join(data_dir, 'sah.training_text')\n",
    "fonts_list_file = os.path.join(data_dir, 'okfonts_test.txt')\n",
    "fonts_dir = os.path.join(data_dir, 'fonts')\n",
    "\n",
    "output_dir = 'generated_images'"
   ]
  },
  {
   "cell_type": "code",
   "execution_count": 4,
   "id": "a81b2dea-2c07-4358-a035-8a0c1e9ccdf3",
   "metadata": {},
   "outputs": [],
   "source": [
    "with open(wordlist_file, 'r', encoding='utf-8') as f:\n",
    "    words = [line.strip() for line in f.readlines()]\n",
    "\n",
    "with open(fonts_list_file, 'r', encoding='utf-8') as f:\n",
    "    styles = [line.strip() for line in f.readlines()]"
   ]
  },
  {
   "cell_type": "code",
   "execution_count": 5,
   "id": "474c3eda-2a87-44fe-8a43-379397e926bb",
   "metadata": {},
   "outputs": [],
   "source": [
    "def generate_image(text, font_path, image_size=(500, 100), font_size=30):\n",
    "    image = Image.new('RGB', image_size, color=(255, 255, 255))\n",
    "    draw = ImageDraw.Draw(image)\n",
    "    try:\n",
    "        font = ImageFont.truetype(font_path, font_size)\n",
    "    except IOError:\n",
    "        print(f\"Не удалось загрузить шрифт: {font_path}\")\n",
    "        return None\n",
    "        \n",
    "    # Определение границ текста\n",
    "    text_bbox = draw.textbbox((0, 0), text, font=font)\n",
    "    text_width = text_bbox[2] - text_bbox[0]\n",
    "    text_height = text_bbox[3] - text_bbox[1]\n",
    "\n",
    "    # Центрирование текста\n",
    "    text_x = (image_size[0] - text_width) // 2\n",
    "    text_y = (image_size[1] - text_height) // 2\n",
    "\n",
    "    draw.text((text_x, text_y), text, font=font, fill=(0, 0, 0))\n",
    "    \n",
    "    return image"
   ]
  },
  {
   "cell_type": "code",
   "execution_count": 6,
   "id": "c65c746c-8fd8-4401-90d6-d63722696546",
   "metadata": {},
   "outputs": [],
   "source": [
    "def load_fonts_from_styles(styles_list, base_fonts_dir):\n",
    "    fonts = []\n",
    "    for style in styles_list:\n",
    "        style_dir = os.path.join(base_fonts_dir, style)\n",
    "        if os.path.exists(style_dir):\n",
    "            for file in os.listdir(style_dir):\n",
    "                if file.endswith(('.ttf', '.otf')):\n",
    "                    fonts.append(os.path.join(style_dir, file))\n",
    "        else:\n",
    "            print(f\"Директория для стиля '{style}' не найдена: {style_dir}\")\n",
    "    return fonts"
   ]
  },
  {
   "cell_type": "code",
   "execution_count": 7,
   "id": "f4c9e270-11c0-4b4d-8574-3e09c5eb70ad",
   "metadata": {},
   "outputs": [],
   "source": [
    "fonts = load_fonts_from_styles(styles, fonts_dir)"
   ]
  },
  {
   "cell_type": "code",
   "execution_count": 8,
   "id": "fc716157-6d27-4cb2-9b89-1146e39d1abf",
   "metadata": {
    "scrolled": true
   },
   "outputs": [],
   "source": [
    "for word in words:\n",
    "    random_font = random.choice(fonts)\n",
    "\n",
    "    output_path = os.path.join(output_dir, f'{word}.png')\n",
    "    \n",
    "    image = generate_image(word, random_font)\n",
    "    \n",
    "    if image:\n",
    "        image.save(output_path)\n",
    "        print(f\"Сгенерировано изображение для слова: {word}\")"
   ]
  },
  {
   "cell_type": "code",
   "execution_count": 9,
   "id": "74f23c8c-a4df-4ce2-a325-2c3f41274a4b",
   "metadata": {},
   "outputs": [],
   "source": [
    "images = [keras_ocr.tools.read(os.path.join(output_dir, f\"{word}.png\")) for word in words]\n",
    "labels = [[(word, None)] for word in words]"
   ]
  },
  {
   "cell_type": "code",
   "execution_count": 10,
   "id": "aa5fb900-6ee8-47aa-9aae-e831a8f6c10f",
   "metadata": {},
   "outputs": [],
   "source": [
    "train_images, test_images = images[:80], images[80:]\n",
    "train_labels, test_labels = labels[:80], labels[80:]"
   ]
  },
  {
   "cell_type": "code",
   "execution_count": 11,
   "id": "84958e72-82e1-486a-86b7-2aa594090b1e",
   "metadata": {},
   "outputs": [
    {
     "name": "stdout",
     "output_type": "stream",
     "text": [
      "Looking for /root/.keras-ocr/craft_mlt_25k.h5\n"
     ]
    },
    {
     "ename": "AttributeError",
     "evalue": "'Detector' object has no attribute 'fit'",
     "output_type": "error",
     "traceback": [
      "\u001b[0;31m---------------------------------------------------------------------------\u001b[0m",
      "\u001b[0;31mAttributeError\u001b[0m                            Traceback (most recent call last)",
      "Cell \u001b[0;32mIn[11], line 3\u001b[0m\n\u001b[1;32m      1\u001b[0m detector \u001b[38;5;241m=\u001b[39m keras_ocr\u001b[38;5;241m.\u001b[39mdetection\u001b[38;5;241m.\u001b[39mDetector()\n\u001b[0;32m----> 3\u001b[0m \u001b[43mdetector\u001b[49m\u001b[38;5;241;43m.\u001b[39;49m\u001b[43mfit\u001b[49m(images\u001b[38;5;241m=\u001b[39mtrain_images, targets\u001b[38;5;241m=\u001b[39mtrain_labels, epochs\u001b[38;5;241m=\u001b[39m\u001b[38;5;241m10\u001b[39m)\n",
      "\u001b[0;31mAttributeError\u001b[0m: 'Detector' object has no attribute 'fit'"
     ]
    }
   ],
   "source": [
    "detector = keras_ocr.detection.Detector()\n",
    "\n",
    "detector.fit(images=train_images, targets=train_labels, epochs=10)"
   ]
  },
  {
   "cell_type": "code",
   "execution_count": null,
   "id": "2c5be1ae-5cfb-42ed-8467-5dd496f276f7",
   "metadata": {},
   "outputs": [],
   "source": []
  }
 ],
 "metadata": {
  "kernelspec": {
   "display_name": "Python 3 (ipykernel)",
   "language": "python",
   "name": "python3"
  },
  "language_info": {
   "codemirror_mode": {
    "name": "ipython",
    "version": 3
   },
   "file_extension": ".py",
   "mimetype": "text/x-python",
   "name": "python",
   "nbconvert_exporter": "python",
   "pygments_lexer": "ipython3",
   "version": "3.8.10"
  }
 },
 "nbformat": 4,
 "nbformat_minor": 5
}
