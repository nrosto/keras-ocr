{
 "cells": [
  {
   "cell_type": "code",
   "execution_count": 1,
   "id": "f9023eda-a4df-4be4-be57-56c2a217d832",
   "metadata": {},
   "outputs": [
    {
     "name": "stdout",
     "output_type": "stream",
     "text": [
      "12.1\n",
      "GPU доступен: True\n",
      "Количество GPU: 5\n"
     ]
    }
   ],
   "source": [
    "import torch\n",
    "print(torch.version.cuda)\n",
    "print('GPU доступен:', torch.cuda.is_available())\n",
    "print('Количество GPU:', torch.cuda.device_count())"
   ]
  },
  {
   "cell_type": "code",
   "execution_count": 2,
   "id": "11cf9065-6dce-487f-b08d-d762e6b0145d",
   "metadata": {},
   "outputs": [],
   "source": [
    "import easyocr"
   ]
  },
  {
   "cell_type": "code",
   "execution_count": 3,
   "id": "17088815-a934-467c-9f5d-bcba3669db65",
   "metadata": {},
   "outputs": [
    {
     "name": "stderr",
     "output_type": "stream",
     "text": [
      "Downloading detection model, please wait. This may take several minutes depending upon your network connection.\n"
     ]
    },
    {
     "name": "stdout",
     "output_type": "stream",
     "text": [
      "Progress: |██████████████████████████████████████████████████| 100.0% Complete"
     ]
    },
    {
     "name": "stderr",
     "output_type": "stream",
     "text": [
      "Downloading recognition model, please wait. This may take several minutes depending upon your network connection.\n"
     ]
    },
    {
     "name": "stdout",
     "output_type": "stream",
     "text": [
      "Progress: |██████████████████████████████████████████████████| 100.0% Complete"
     ]
    }
   ],
   "source": [
    "reader = easyocr.Reader(['ch_tra', 'en'])"
   ]
  },
  {
   "cell_type": "code",
   "execution_count": 4,
   "id": "2051103d-ba2c-4e3f-b283-01dc881a0da2",
   "metadata": {},
   "outputs": [
    {
     "name": "stderr",
     "output_type": "stream",
     "text": [
      "IOPub data rate exceeded.\n",
      "The Jupyter server will temporarily stop sending output\n",
      "to the client in order to avoid crashing it.\n",
      "To change this limit, set the config variable\n",
      "`--ServerApp.iopub_data_rate_limit`.\n",
      "\n",
      "Current values:\n",
      "ServerApp.iopub_data_rate_limit=1000000.0 (bytes/sec)\n",
      "ServerApp.rate_limit_window=3.0 (secs)\n",
      "\n"
     ]
    }
   ],
   "source": [
    "result = reader.readtext('https://live.staticflickr.com/182/401560124_287c982911_b.jpg')"
   ]
  },
  {
   "cell_type": "code",
   "execution_count": 5,
   "id": "7eee130d-5541-42cb-b70a-d4d107ac8036",
   "metadata": {},
   "outputs": [
    {
     "data": {
      "text/plain": [
       "[([[448, 111], [917, 111], [917, 243], [448, 243]],\n",
       "  '高鐵左營站',\n",
       "  0.9715252962672019),\n",
       " ([[454, 214], [629, 214], [629, 290], [454, 290]], 'HSR', 0.999133124163566),\n",
       " ([[664, 222], [925, 222], [925, 302], [664, 302]],\n",
       "  'Station',\n",
       "  0.9999901775853904),\n",
       " ([[312, 306], [937, 306], [937, 445], [312, 445]],\n",
       "  '汽車臨停接送區',\n",
       "  0.9986522357212929),\n",
       " ([[331, 421], [453, 421], [453, 487], [331, 487]], 'Car', 0.9999467292411697),\n",
       " ([[482, 418], [633, 418], [633, 494], [482, 494]],\n",
       "  'Kiss',\n",
       "  0.9999912977218628),\n",
       " ([[653, 429], [769, 429], [769, 495], [653, 495]], 'and', 0.9999531987962482),\n",
       " ([[797, 429], [939, 429], [939, 497], [797, 497]],\n",
       "  'Ride',\n",
       "  0.9998052716255188)]"
      ]
     },
     "execution_count": 5,
     "metadata": {},
     "output_type": "execute_result"
    }
   ],
   "source": [
    "result"
   ]
  },
  {
   "cell_type": "code",
   "execution_count": 6,
   "id": "27d30692-ef75-4c1a-8f4d-8b4e4eeedcb1",
   "metadata": {},
   "outputs": [
    {
     "name": "stderr",
     "output_type": "stream",
     "text": [
      "IOPub data rate exceeded.\n",
      "The Jupyter server will temporarily stop sending output\n",
      "to the client in order to avoid crashing it.\n",
      "To change this limit, set the config variable\n",
      "`--ServerApp.iopub_data_rate_limit`.\n",
      "\n",
      "Current values:\n",
      "ServerApp.iopub_data_rate_limit=1000000.0 (bytes/sec)\n",
      "ServerApp.rate_limit_window=3.0 (secs)\n",
      "\n"
     ]
    }
   ],
   "source": [
    "result = reader.readtext('https://live.staticflickr.com/182/401560124_287c982911_b.jpg', detail = 0)"
   ]
  },
  {
   "cell_type": "code",
   "execution_count": 7,
   "id": "7e5a8820-0a00-4285-b8f0-4ee992813a9d",
   "metadata": {},
   "outputs": [
    {
     "data": {
      "text/plain": [
       "['高鐵左營站', 'HSR', 'Station', '汽車臨停接送區', 'Car', 'Kiss', 'and', 'Ride']"
      ]
     },
     "execution_count": 7,
     "metadata": {},
     "output_type": "execute_result"
    }
   ],
   "source": [
    "result"
   ]
  },
  {
   "cell_type": "code",
   "execution_count": 8,
   "id": "197b6e31-0dbd-4090-b95e-b71cc950c2eb",
   "metadata": {},
   "outputs": [
    {
     "name": "stderr",
     "output_type": "stream",
     "text": [
      "IOPub data rate exceeded.\n",
      "The Jupyter server will temporarily stop sending output\n",
      "to the client in order to avoid crashing it.\n",
      "To change this limit, set the config variable\n",
      "`--ServerApp.iopub_data_rate_limit`.\n",
      "\n",
      "Current values:\n",
      "ServerApp.iopub_data_rate_limit=1000000.0 (bytes/sec)\n",
      "ServerApp.rate_limit_window=3.0 (secs)\n",
      "\n"
     ]
    }
   ],
   "source": [
    "result = reader.readtext('https://live.staticflickr.com/182/401560124_287c982911_b.jpg', detail = 0, paragraph = True)"
   ]
  },
  {
   "cell_type": "code",
   "execution_count": 9,
   "id": "bb82f610-1db3-42b4-81a1-a19c949efccd",
   "metadata": {},
   "outputs": [
    {
     "data": {
      "text/plain": [
       "['高鐵左營站 HSR Station 汽車臨停接送區 Car Kiss and Ride']"
      ]
     },
     "execution_count": 9,
     "metadata": {},
     "output_type": "execute_result"
    }
   ],
   "source": [
    "result"
   ]
  },
  {
   "cell_type": "code",
   "execution_count": null,
   "id": "9fb9d9eb-ab1e-49a2-80c1-1253005b51f3",
   "metadata": {},
   "outputs": [],
   "source": []
  }
 ],
 "metadata": {
  "kernelspec": {
   "display_name": "Python 3 (ipykernel)",
   "language": "python",
   "name": "python3"
  },
  "language_info": {
   "codemirror_mode": {
    "name": "ipython",
    "version": 3
   },
   "file_extension": ".py",
   "mimetype": "text/x-python",
   "name": "python",
   "nbconvert_exporter": "python",
   "pygments_lexer": "ipython3",
   "version": "3.10.13"
  }
 },
 "nbformat": 4,
 "nbformat_minor": 5
}
