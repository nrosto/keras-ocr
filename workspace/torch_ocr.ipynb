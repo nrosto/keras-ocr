{
 "cells": [
  {
   "cell_type": "code",
   "execution_count": 1,
   "id": "d2edd6b1-7ce1-4107-a511-5f615909091d",
   "metadata": {},
   "outputs": [],
   "source": [
    "import os\n",
    "import random"
   ]
  },
  {
   "cell_type": "code",
   "execution_count": 2,
   "id": "9975390e-6270-47af-9eb8-5f30b7b44718",
   "metadata": {},
   "outputs": [],
   "source": [
    "output_folder = './generated_data'\n",
    "labels_file = os.path.join(output_folder, 'labels.txt')"
   ]
  },
  {
   "cell_type": "code",
   "execution_count": 4,
   "id": "7bf57170-3960-4d41-9569-aff055b04dc3",
   "metadata": {},
   "outputs": [],
   "source": [
    "# Чтение меток\n",
    "with open(labels_file, 'r', encoding='utf-8') as f:\n",
    "    lines = f.read().splitlines()"
   ]
  },
  {
   "cell_type": "code",
   "execution_count": 7,
   "id": "22c50872-546c-450f-856d-883b2a1ae1fb",
   "metadata": {},
   "outputs": [],
   "source": [
    "train_ratio = 0.8\n",
    "train_size = int(len(lines) * train_ratio)\n",
    "train_data = lines[:train_size]\n",
    "valid_data = lines[train_size:]"
   ]
  },
  {
   "cell_type": "code",
   "execution_count": 8,
   "id": "2551eb50-ba46-46b2-add2-b586ef04bf51",
   "metadata": {},
   "outputs": [
    {
     "name": "stdout",
     "output_type": "stream",
     "text": [
      "Тренировочный набор: 17405 изображений.\n",
      "Валидационный набор: 4352 изображений.\n"
     ]
    }
   ],
   "source": [
    "train_labels_file = os.path.join(output_folder, 'train_labels.txt')\n",
    "with open(train_labels_file, 'w', encoding='utf-8') as f:\n",
    "    for line in train_data:\n",
    "        f.write(f\"{line}\\n\")\n",
    "\n",
    "valid_labels_file = os.path.join(output_folder, 'valid_labels.txt')\n",
    "with open(valid_labels_file, 'w', encoding='utf-8') as f:\n",
    "    for line in valid_data:\n",
    "        f.write(f\"{line}\\n\")\n",
    "\n",
    "print(f\"Тренировочный набор: {len(train_data)} изображений.\")\n",
    "print(f\"Валидационный набор: {len(valid_data)} изображений.\")"
   ]
  },
  {
   "cell_type": "code",
   "execution_count": 6,
   "id": "ffb586be-1ae2-412e-94e1-fd5d24cc9130",
   "metadata": {},
   "outputs": [
    {
     "name": "stdout",
     "output_type": "stream",
     "text": [
      "Файл с уникальными символами char_list.txt создан.\n"
     ]
    }
   ],
   "source": [
    "# Собираем уникальные символы из меток\n",
    "char_set = set()\n",
    "\n",
    "for line in lines:\n",
    "    _, label = line.strip().split('\\t')\n",
    "    char_set.update(label)\n",
    "\n",
    "with open('char_list.txt', 'w', encoding='utf-8') as f:\n",
    "    for char in sorted(char_set):\n",
    "        f.write(char)\n",
    "\n",
    "print(\"Файл с уникальными символами char_list.txt создан.\")"
   ]
  },
  {
   "cell_type": "code",
   "execution_count": 11,
   "id": "96a3e25b-df55-4f95-b385-36ec6eeac2ae",
   "metadata": {},
   "outputs": [
    {
     "name": "stdout",
     "output_type": "stream",
     "text": [
      "Количество классов (num_class): 135\n"
     ]
    }
   ],
   "source": [
    "with open('char_list.txt', 'r', encoding='utf-8') as f:\n",
    "    characters = f.read()\n",
    "num_class = len(characters) + 1  # +1 для CTC blank label\n",
    "print(f\"Количество классов (num_class): {num_class}\")"
   ]
  },
  {
   "cell_type": "code",
   "execution_count": 8,
   "id": "6e68f8af-e64a-402b-9705-4c550dc731dc",
   "metadata": {},
   "outputs": [
    {
     "name": "stdout",
     "output_type": "stream",
     "text": [
      "Уникальные символы записаны в ./text/char_list.txt\n"
     ]
    }
   ],
   "source": [
    "output_folder = './text'\n",
    "labels_file = os.path.join(output_folder, 'sah.wordlist')\n",
    "\n",
    "with open(labels_file, 'r', encoding='utf-8') as f:\n",
    "    lines = f.read().splitlines()\n",
    "\n",
    "all_chars = ''.join(lines)\n",
    "\n",
    "unique_chars = sorted(set(all_chars))\n",
    "\n",
    "char_list_file = os.path.join(output_folder, 'char_list.txt')\n",
    "\n",
    "with open(char_list_file, 'w', encoding='utf-8') as f:\n",
    "    for char in unique_chars:\n",
    "        f.write(char + '')\n",
    "\n",
    "print(f\"Уникальные символы записаны в {char_list_file}\")"
   ]
  },
  {
   "cell_type": "code",
   "execution_count": 1,
   "id": "abc3439c-511e-47fb-9b4a-2e14c091ae1d",
   "metadata": {},
   "outputs": [
    {
     "name": "stdout",
     "output_type": "stream",
     "text": [
      "Requirement already satisfied: torch in /opt/conda/lib/python3.10/site-packages (from -r EasyOCR/requirements.txt (line 1)) (2.2.1)\n",
      "Requirement already satisfied: torchvision>=0.5 in /opt/conda/lib/python3.10/site-packages (from -r EasyOCR/requirements.txt (line 2)) (0.17.1)\n",
      "Requirement already satisfied: opencv-python-headless in /opt/conda/lib/python3.10/site-packages (from -r EasyOCR/requirements.txt (line 3)) (4.10.0.84)\n",
      "Requirement already satisfied: scipy in /opt/conda/lib/python3.10/site-packages (from -r EasyOCR/requirements.txt (line 4)) (1.14.1)\n",
      "Requirement already satisfied: numpy in /opt/conda/lib/python3.10/site-packages (from -r EasyOCR/requirements.txt (line 5)) (1.26.3)\n",
      "Requirement already satisfied: Pillow in /opt/conda/lib/python3.10/site-packages (from -r EasyOCR/requirements.txt (line 6)) (10.2.0)\n",
      "Requirement already satisfied: scikit-image in /opt/conda/lib/python3.10/site-packages (from -r EasyOCR/requirements.txt (line 7)) (0.24.0)\n",
      "Requirement already satisfied: python-bidi in /opt/conda/lib/python3.10/site-packages (from -r EasyOCR/requirements.txt (line 8)) (0.6.0)\n",
      "Requirement already satisfied: PyYAML in /opt/conda/lib/python3.10/site-packages (from -r EasyOCR/requirements.txt (line 9)) (6.0.1)\n",
      "Requirement already satisfied: Shapely in /opt/conda/lib/python3.10/site-packages (from -r EasyOCR/requirements.txt (line 10)) (2.0.6)\n",
      "Requirement already satisfied: pyclipper in /opt/conda/lib/python3.10/site-packages (from -r EasyOCR/requirements.txt (line 11)) (1.3.0.post5)\n",
      "Requirement already satisfied: ninja in /opt/conda/lib/python3.10/site-packages (from -r EasyOCR/requirements.txt (line 12)) (1.11.1.1)\n",
      "Requirement already satisfied: filelock in /opt/conda/lib/python3.10/site-packages (from torch->-r EasyOCR/requirements.txt (line 1)) (3.13.1)\n",
      "Requirement already satisfied: typing-extensions>=4.8.0 in /opt/conda/lib/python3.10/site-packages (from torch->-r EasyOCR/requirements.txt (line 1)) (4.9.0)\n",
      "Requirement already satisfied: sympy in /opt/conda/lib/python3.10/site-packages (from torch->-r EasyOCR/requirements.txt (line 1)) (1.12)\n",
      "Requirement already satisfied: networkx in /opt/conda/lib/python3.10/site-packages (from torch->-r EasyOCR/requirements.txt (line 1)) (3.1)\n",
      "Requirement already satisfied: jinja2 in /opt/conda/lib/python3.10/site-packages (from torch->-r EasyOCR/requirements.txt (line 1)) (3.1.3)\n",
      "Requirement already satisfied: fsspec in /opt/conda/lib/python3.10/site-packages (from torch->-r EasyOCR/requirements.txt (line 1)) (2024.2.0)\n",
      "Requirement already satisfied: imageio>=2.33 in /opt/conda/lib/python3.10/site-packages (from scikit-image->-r EasyOCR/requirements.txt (line 7)) (2.35.1)\n",
      "Requirement already satisfied: tifffile>=2022.8.12 in /opt/conda/lib/python3.10/site-packages (from scikit-image->-r EasyOCR/requirements.txt (line 7)) (2024.9.20)\n",
      "Requirement already satisfied: packaging>=21 in /opt/conda/lib/python3.10/site-packages (from scikit-image->-r EasyOCR/requirements.txt (line 7)) (23.1)\n",
      "Requirement already satisfied: lazy-loader>=0.4 in /opt/conda/lib/python3.10/site-packages (from scikit-image->-r EasyOCR/requirements.txt (line 7)) (0.4)\n",
      "Requirement already satisfied: MarkupSafe>=2.0 in /opt/conda/lib/python3.10/site-packages (from jinja2->torch->-r EasyOCR/requirements.txt (line 1)) (2.1.3)\n",
      "Requirement already satisfied: mpmath>=0.19 in /opt/conda/lib/python3.10/site-packages (from sympy->torch->-r EasyOCR/requirements.txt (line 1)) (1.3.0)\n",
      "\u001b[33mWARNING: Running pip as the 'root' user can result in broken permissions and conflicting behaviour with the system package manager. It is recommended to use a virtual environment instead: https://pip.pypa.io/warnings/venv\u001b[0m\u001b[33m\n",
      "\u001b[0m"
     ]
    }
   ],
   "source": [
    "!pip install -r EasyOCR/requirements.txt"
   ]
  },
  {
   "cell_type": "code",
   "execution_count": 2,
   "id": "31d4b596-b33e-4b85-848a-1e170f518a52",
   "metadata": {},
   "outputs": [
    {
     "name": "stdout",
     "output_type": "stream",
     "text": [
      "Collecting pandas\n",
      "  Downloading pandas-2.2.3-cp310-cp310-manylinux_2_17_x86_64.manylinux2014_x86_64.whl.metadata (89 kB)\n",
      "\u001b[2K     \u001b[90m━━━━━━━━━━━━━━━━━━━━━━━━━━━━━━━━━━━━━━━\u001b[0m \u001b[32m89.9/89.9 kB\u001b[0m \u001b[31m272.4 kB/s\u001b[0m eta \u001b[36m0:00:00\u001b[0ma \u001b[36m0:00:01\u001b[0m\n",
      "\u001b[?25hCollecting natsort\n",
      "  Downloading natsort-8.4.0-py3-none-any.whl.metadata (21 kB)\n",
      "Collecting nltk\n",
      "  Downloading nltk-3.9.1-py3-none-any.whl.metadata (2.9 kB)\n",
      "Requirement already satisfied: numpy>=1.22.4 in /opt/conda/lib/python3.10/site-packages (from pandas) (1.26.3)\n",
      "Requirement already satisfied: python-dateutil>=2.8.2 in /opt/conda/lib/python3.10/site-packages (from pandas) (2.9.0.post0)\n",
      "Requirement already satisfied: pytz>=2020.1 in /opt/conda/lib/python3.10/site-packages (from pandas) (2023.3.post1)\n",
      "Collecting tzdata>=2022.7 (from pandas)\n",
      "  Downloading tzdata-2024.2-py2.py3-none-any.whl.metadata (1.4 kB)\n",
      "Requirement already satisfied: click in /opt/conda/lib/python3.10/site-packages (from nltk) (8.1.7)\n",
      "Collecting joblib (from nltk)\n",
      "  Downloading joblib-1.4.2-py3-none-any.whl.metadata (5.4 kB)\n",
      "Collecting regex>=2021.8.3 (from nltk)\n",
      "  Downloading regex-2024.9.11-cp310-cp310-manylinux_2_17_x86_64.manylinux2014_x86_64.whl.metadata (40 kB)\n",
      "\u001b[2K     \u001b[90m━━━━━━━━━━━━━━━━━━━━━━━━━━━━━━━━━━━━━━━\u001b[0m \u001b[32m40.5/40.5 kB\u001b[0m \u001b[31m871.3 kB/s\u001b[0m eta \u001b[36m0:00:00\u001b[0m \u001b[36m0:00:01\u001b[0m\n",
      "\u001b[?25hRequirement already satisfied: tqdm in /opt/conda/lib/python3.10/site-packages (from nltk) (4.65.0)\n",
      "Requirement already satisfied: six>=1.5 in /opt/conda/lib/python3.10/site-packages (from python-dateutil>=2.8.2->pandas) (1.16.0)\n",
      "Downloading pandas-2.2.3-cp310-cp310-manylinux_2_17_x86_64.manylinux2014_x86_64.whl (13.1 MB)\n",
      "\u001b[2K   \u001b[90m━━━━━━━━━━━━━━━━━━━━━━━━━━━━━━━━━━━━━━━━\u001b[0m \u001b[32m13.1/13.1 MB\u001b[0m \u001b[31m7.5 MB/s\u001b[0m eta \u001b[36m0:00:00\u001b[0m00:01\u001b[0m00:01\u001b[0m\n",
      "\u001b[?25hDownloading natsort-8.4.0-py3-none-any.whl (38 kB)\n",
      "Downloading nltk-3.9.1-py3-none-any.whl (1.5 MB)\n",
      "\u001b[2K   \u001b[90m━━━━━━━━━━━━━━━━━━━━━━━━━━━━━━━━━━━━━━━━\u001b[0m \u001b[32m1.5/1.5 MB\u001b[0m \u001b[31m6.2 MB/s\u001b[0m eta \u001b[36m0:00:00\u001b[0ma \u001b[36m0:00:01\u001b[0m\n",
      "\u001b[?25hDownloading regex-2024.9.11-cp310-cp310-manylinux_2_17_x86_64.manylinux2014_x86_64.whl (782 kB)\n",
      "\u001b[2K   \u001b[90m━━━━━━━━━━━━━━━━━━━━━━━━━━━━━━━━━━━━━━━━\u001b[0m \u001b[32m782.7/782.7 kB\u001b[0m \u001b[31m6.9 MB/s\u001b[0m eta \u001b[36m0:00:00\u001b[0m00:01\u001b[0m00:01\u001b[0m\n",
      "\u001b[?25hDownloading tzdata-2024.2-py2.py3-none-any.whl (346 kB)\n",
      "\u001b[2K   \u001b[90m━━━━━━━━━━━━━━━━━━━━━━━━━━━━━━━━━━━━━━━━\u001b[0m \u001b[32m346.6/346.6 kB\u001b[0m \u001b[31m6.5 MB/s\u001b[0m eta \u001b[36m0:00:00\u001b[0ma \u001b[36m0:00:01\u001b[0m\n",
      "\u001b[?25hDownloading joblib-1.4.2-py3-none-any.whl (301 kB)\n",
      "\u001b[2K   \u001b[90m━━━━━━━━━━━━━━━━━━━━━━━━━━━━━━━━━━━━━━━━\u001b[0m \u001b[32m301.8/301.8 kB\u001b[0m \u001b[31m6.4 MB/s\u001b[0m eta \u001b[36m0:00:00\u001b[0ma \u001b[36m0:00:01\u001b[0m\n",
      "\u001b[?25hInstalling collected packages: tzdata, regex, natsort, joblib, pandas, nltk\n",
      "Successfully installed joblib-1.4.2 natsort-8.4.0 nltk-3.9.1 pandas-2.2.3 regex-2024.9.11 tzdata-2024.2\n",
      "\u001b[33mWARNING: Running pip as the 'root' user can result in broken permissions and conflicting behaviour with the system package manager. It is recommended to use a virtual environment instead: https://pip.pypa.io/warnings/venv\u001b[0m\u001b[33m\n",
      "\u001b[0m"
     ]
    }
   ],
   "source": [
    "!pip install pandas natsort nltk"
   ]
  },
  {
   "cell_type": "code",
   "execution_count": null,
   "id": "266cd0d1-936c-4eab-bf38-22e4e960c8d6",
   "metadata": {},
   "outputs": [],
   "source": []
  }
 ],
 "metadata": {
  "kernelspec": {
   "display_name": "Python 3 (ipykernel)",
   "language": "python",
   "name": "python3"
  },
  "language_info": {
   "codemirror_mode": {
    "name": "ipython",
    "version": 3
   },
   "file_extension": ".py",
   "mimetype": "text/x-python",
   "name": "python",
   "nbconvert_exporter": "python",
   "pygments_lexer": "ipython3",
   "version": "3.10.13"
  }
 },
 "nbformat": 4,
 "nbformat_minor": 5
}
