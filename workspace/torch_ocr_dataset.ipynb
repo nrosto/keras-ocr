{
 "cells": [
  {
   "cell_type": "code",
   "execution_count": 33,
   "id": "496ad4e3-d976-47e1-9012-442f5e119fb5",
   "metadata": {
    "scrolled": true
   },
   "outputs": [
    {
     "name": "stdout",
     "output_type": "stream",
     "text": [
      "Requirement already satisfied: trdg in /opt/conda/lib/python3.10/site-packages (1.8.0)\n",
      "Requirement already satisfied: matplotlib in /opt/conda/lib/python3.10/site-packages (3.9.2)\n",
      "Requirement already satisfied: pillow>=7.0.0 in /opt/conda/lib/python3.10/site-packages (from trdg) (9.5.0)\n",
      "Requirement already satisfied: requests>=2.20.0 in /opt/conda/lib/python3.10/site-packages (from trdg) (2.31.0)\n",
      "Requirement already satisfied: opencv-python>=4.2.0.32 in /opt/conda/lib/python3.10/site-packages (from trdg) (4.10.0.84)\n",
      "Requirement already satisfied: tqdm>=4.23.0 in /opt/conda/lib/python3.10/site-packages (from trdg) (4.65.0)\n",
      "Requirement already satisfied: wikipedia>=1.4.0 in /opt/conda/lib/python3.10/site-packages (from trdg) (1.4.0)\n",
      "Requirement already satisfied: diffimg==0.2.3 in /opt/conda/lib/python3.10/site-packages (from trdg) (0.2.3)\n",
      "Requirement already satisfied: arabic-reshaper==2.1.3 in /opt/conda/lib/python3.10/site-packages (from trdg) (2.1.3)\n",
      "Requirement already satisfied: python-bidi==0.4.2 in /opt/conda/lib/python3.10/site-packages (from trdg) (0.4.2)\n",
      "Requirement already satisfied: future in /opt/conda/lib/python3.10/site-packages (from arabic-reshaper==2.1.3->trdg) (1.0.0)\n",
      "Requirement already satisfied: setuptools in /opt/conda/lib/python3.10/site-packages (from arabic-reshaper==2.1.3->trdg) (68.2.2)\n",
      "Requirement already satisfied: six in /opt/conda/lib/python3.10/site-packages (from python-bidi==0.4.2->trdg) (1.16.0)\n",
      "Requirement already satisfied: contourpy>=1.0.1 in /opt/conda/lib/python3.10/site-packages (from matplotlib) (1.3.0)\n",
      "Requirement already satisfied: cycler>=0.10 in /opt/conda/lib/python3.10/site-packages (from matplotlib) (0.12.1)\n",
      "Requirement already satisfied: fonttools>=4.22.0 in /opt/conda/lib/python3.10/site-packages (from matplotlib) (4.54.1)\n",
      "Requirement already satisfied: kiwisolver>=1.3.1 in /opt/conda/lib/python3.10/site-packages (from matplotlib) (1.4.7)\n",
      "Requirement already satisfied: numpy>=1.23 in /opt/conda/lib/python3.10/site-packages (from matplotlib) (1.26.3)\n",
      "Requirement already satisfied: packaging>=20.0 in /opt/conda/lib/python3.10/site-packages (from matplotlib) (23.1)\n",
      "Requirement already satisfied: pyparsing>=2.3.1 in /opt/conda/lib/python3.10/site-packages (from matplotlib) (3.1.4)\n",
      "Requirement already satisfied: python-dateutil>=2.7 in /opt/conda/lib/python3.10/site-packages (from matplotlib) (2.9.0.post0)\n",
      "Requirement already satisfied: charset-normalizer<4,>=2 in /opt/conda/lib/python3.10/site-packages (from requests>=2.20.0->trdg) (2.0.4)\n",
      "Requirement already satisfied: idna<4,>=2.5 in /opt/conda/lib/python3.10/site-packages (from requests>=2.20.0->trdg) (3.4)\n",
      "Requirement already satisfied: urllib3<3,>=1.21.1 in /opt/conda/lib/python3.10/site-packages (from requests>=2.20.0->trdg) (2.1.0)\n",
      "Requirement already satisfied: certifi>=2017.4.17 in /opt/conda/lib/python3.10/site-packages (from requests>=2.20.0->trdg) (2024.2.2)\n",
      "Requirement already satisfied: beautifulsoup4 in /opt/conda/lib/python3.10/site-packages (from wikipedia>=1.4.0->trdg) (4.12.2)\n",
      "Requirement already satisfied: soupsieve>1.2 in /opt/conda/lib/python3.10/site-packages (from beautifulsoup4->wikipedia>=1.4.0->trdg) (2.5)\n",
      "\u001b[33mWARNING: Running pip as the 'root' user can result in broken permissions and conflicting behaviour with the system package manager. It is recommended to use a virtual environment instead: https://pip.pypa.io/warnings/venv\u001b[0m\u001b[33m\n",
      "\u001b[0m"
     ]
    }
   ],
   "source": [
    "!pip install trdg matplotlib"
   ]
  },
  {
   "cell_type": "code",
   "execution_count": 2,
   "id": "31650dde-8e38-4dcc-8bf0-8179911bfb1c",
   "metadata": {},
   "outputs": [
    {
     "name": "stdout",
     "output_type": "stream",
     "text": [
      "Requirement already satisfied: Pillow==9.5.0 in /opt/conda/lib/python3.10/site-packages (9.5.0)\n",
      "\u001b[33mWARNING: Running pip as the 'root' user can result in broken permissions and conflicting behaviour with the system package manager. It is recommended to use a virtual environment instead: https://pip.pypa.io/warnings/venv\u001b[0m\u001b[33m\n",
      "\u001b[0m"
     ]
    }
   ],
   "source": [
    "!pip install Pillow==9.5.0"
   ]
  },
  {
   "cell_type": "code",
   "execution_count": 20,
   "id": "58b62c49-3eb4-471c-89d6-db55d94218b1",
   "metadata": {},
   "outputs": [
    {
     "data": {
      "text/plain": [
       "'/workspace'"
      ]
     },
     "execution_count": 20,
     "metadata": {},
     "output_type": "execute_result"
    }
   ],
   "source": [
    "os.getcwd()"
   ]
  },
  {
   "cell_type": "code",
   "execution_count": 1,
   "id": "14a91335-2d77-4778-ba54-db130bd58a4a",
   "metadata": {},
   "outputs": [
    {
     "name": "stdout",
     "output_type": "stream",
     "text": [
      "Missing modules for handwritten text generation.\n"
     ]
    }
   ],
   "source": [
    "import os\n",
    "import random\n",
    "from trdg.generators import GeneratorFromStrings\n",
    "import matplotlib.pyplot as plt\n",
    "import pandas as pd  "
   ]
  },
  {
   "cell_type": "code",
   "execution_count": 2,
   "id": "8b807aba-9c3a-4001-96c4-e3b1106a5de7",
   "metadata": {},
   "outputs": [],
   "source": [
    "# Пути к папкам для сохранения данных\n",
    "train_output_folder = 'generated_data/sah_filtered'\n",
    "val_output_folder = 'generated_data/val'\n",
    "\n",
    "os.makedirs(train_output_folder, exist_ok=True)\n",
    "os.makedirs(val_output_folder, exist_ok=True)\n",
    "\n",
    "# Пути к файлам с текстом и шрифтами\n",
    "fonts_list_file = 'text/okfonts_test.txt'\n",
    "fonts_dir = '.'\n",
    "text_file = 'text/sah.training_text'"
   ]
  },
  {
   "cell_type": "code",
   "execution_count": 3,
   "id": "87027fc9-6451-410d-9f6a-fea115f3eb39",
   "metadata": {},
   "outputs": [
    {
     "name": "stdout",
     "output_type": "stream",
     "text": [
      "Количество найденных файлов шрифтов: 75\n"
     ]
    }
   ],
   "source": [
    "font_paths = []\n",
    "\n",
    "with open(fonts_list_file, 'r', encoding='utf-8') as f:\n",
    "    font_dir_names = [line.strip() for line in f if line.strip()]\n",
    "\n",
    "for font_dir_name in font_dir_names:\n",
    "    font_dir_path = os.path.join(fonts_dir, font_dir_name)\n",
    "    if not os.path.isdir(font_dir_path):\n",
    "        print(f\"Директория {font_dir_path} не найдена. Пропускаем её.\")\n",
    "        continue\n",
    "    for root, dirs, files in os.walk(font_dir_path):\n",
    "        for fname in files:\n",
    "            if fname.lower().endswith(('.ttf', '.otf')):\n",
    "                font_path = os.path.join(root, fname)\n",
    "                font_paths.append(font_path)\n",
    "\n",
    "print(f\"Количество найденных файлов шрифтов: {len(font_paths)}\")"
   ]
  },
  {
   "cell_type": "code",
   "execution_count": 4,
   "id": "9f05ba4d-6251-4681-8fac-01aa5dc9dc98",
   "metadata": {},
   "outputs": [
    {
     "name": "stdout",
     "output_type": "stream",
     "text": [
      "Общее количество строк для генерации: 21757\n"
     ]
    }
   ],
   "source": [
    "with open(text_file, 'r', encoding='utf-8') as f:\n",
    "    lines = [line.strip() for line in f if line.strip()]\n",
    "\n",
    "print(f\"Общее количество строк для генерации: {len(lines)}\")\n",
    "\n",
    "random.shuffle(lines)"
   ]
  },
  {
   "cell_type": "code",
   "execution_count": 5,
   "id": "8cda22ae-47d6-4e27-8aae-c1c4a1dbec36",
   "metadata": {},
   "outputs": [
    {
     "name": "stdout",
     "output_type": "stream",
     "text": [
      "Количество тренировочных строк: 17405\n",
      "Количество валидационных строк: 4352\n"
     ]
    }
   ],
   "source": [
    "# Разделение на тренировочный и валидационный наборы\n",
    "validation_split = 0.2  # 20% данных для валидации\n",
    "split_index = int(len(lines) * (1 - validation_split))\n",
    "\n",
    "train_lines = lines[:split_index]\n",
    "val_lines = lines[split_index:]\n",
    "\n",
    "print(f\"Количество тренировочных строк: {len(train_lines)}\")\n",
    "print(f\"Количество валидационных строк: {len(val_lines)}\")"
   ]
  },
  {
   "cell_type": "code",
   "execution_count": 9,
   "id": "e0d46396-73af-4fca-83b2-a5b6d2f71c86",
   "metadata": {},
   "outputs": [],
   "source": [
    "# Настройка генератора TRDG\n",
    "generator_settings = {\n",
    "    'fonts': font_paths,\n",
    "    'size': 32,                  # Размер шрифта (можете настроить под свои нужды)\n",
    "    'background_type': 0,        # Тип фона: 0 - однородный, 1 - шум, 2 - градиент\n",
    "    'image_mode': 'RGB',\n",
    "    'text_color': 'black',\n",
    "    'skewing_angle': 0,\n",
    "    'random_skew': False,\n",
    "    'blur': 0,\n",
    "    'random_blur': False,\n",
    "    'is_handwritten': False,\n",
    "    'alignment': 1,\n",
    "    'width': 1200,\n",
    "    'fit': True,\n",
    "    'space_width': 1.0,\n",
    "    'character_spacing': 0,\n",
    "    'stroke_width': 0,\n",
    "    'stroke_fill': '#ffffff'\n",
    "}"
   ]
  },
  {
   "cell_type": "code",
   "execution_count": 10,
   "id": "52e3207c-e707-4b80-96a7-c78f72d28675",
   "metadata": {
    "scrolled": true
   },
   "outputs": [],
   "source": [
    "# Функция для генерации данных и сохранения в CSV\n",
    "def generate_and_save(generator, lines, output_folder, csv_filename):\n",
    "    labels = []\n",
    "    for idx, (img, lbl) in enumerate(generator):\n",
    "        image_filename = f\"{idx}.jpg\"\n",
    "        image_path = os.path.join(output_folder, image_filename)\n",
    "        img.save(image_path)\n",
    "        labels.append((image_filename, lbl))\n",
    "        \n",
    "        if (idx + 1) % 1000 == 0:\n",
    "            print(f\"Сгенерировано {idx + 1} изображений в {output_folder}...\")\n",
    "    \n",
    "    print(f\"Генерация в {output_folder} завершена. Всего сгенерировано {len(labels)} изображений.\")\n",
    "    \n",
    "    # Сохранение меток в labels.csv с использованием pandas\n",
    "    df_labels = pd.DataFrame(labels, columns=['filename', 'words'])\n",
    "    labels_csv_path = os.path.join(output_folder, csv_filename)\n",
    "    df_labels.to_csv(labels_csv_path, index=False, encoding='utf-8')\n",
    "    \n",
    "    print(f\"Файл меток сохранен: {labels_csv_path}\")"
   ]
  },
  {
   "cell_type": "code",
   "execution_count": 11,
   "id": "e87c9d49-52a4-4218-b99d-355dc1273251",
   "metadata": {},
   "outputs": [
    {
     "name": "stdout",
     "output_type": "stream",
     "text": [
      "Генерация тренировочных изображений...\n",
      "Сгенерировано 1000 изображений в generated_data/sah_filtered...\n",
      "Сгенерировано 2000 изображений в generated_data/sah_filtered...\n",
      "Сгенерировано 3000 изображений в generated_data/sah_filtered...\n",
      "Сгенерировано 4000 изображений в generated_data/sah_filtered...\n",
      "Сгенерировано 5000 изображений в generated_data/sah_filtered...\n",
      "Сгенерировано 6000 изображений в generated_data/sah_filtered...\n",
      "Сгенерировано 7000 изображений в generated_data/sah_filtered...\n",
      "Сгенерировано 8000 изображений в generated_data/sah_filtered...\n",
      "Сгенерировано 9000 изображений в generated_data/sah_filtered...\n",
      "Сгенерировано 10000 изображений в generated_data/sah_filtered...\n",
      "Сгенерировано 11000 изображений в generated_data/sah_filtered...\n",
      "Сгенерировано 12000 изображений в generated_data/sah_filtered...\n",
      "Сгенерировано 13000 изображений в generated_data/sah_filtered...\n",
      "Сгенерировано 14000 изображений в generated_data/sah_filtered...\n",
      "Сгенерировано 15000 изображений в generated_data/sah_filtered...\n",
      "Сгенерировано 16000 изображений в generated_data/sah_filtered...\n",
      "Сгенерировано 17000 изображений в generated_data/sah_filtered...\n",
      "Генерация в generated_data/sah_filtered завершена. Всего сгенерировано 17405 изображений.\n",
      "Файл меток сохранен: generated_data/sah_filtered/labels.csv\n"
     ]
    }
   ],
   "source": [
    "# Генерация тренировочных данных\n",
    "print(\"Генерация тренировочных изображений...\")\n",
    "train_generator = GeneratorFromStrings(\n",
    "    strings=train_lines,\n",
    "    count=len(train_lines),\n",
    "    **generator_settings\n",
    ")\n",
    "generate_and_save(train_generator, train_lines, train_output_folder, 'labels.csv')"
   ]
  },
  {
   "cell_type": "code",
   "execution_count": 12,
   "id": "028e1267-3d52-41de-aba0-f1691eae7c84",
   "metadata": {},
   "outputs": [
    {
     "name": "stdout",
     "output_type": "stream",
     "text": [
      "Генерация валидационных изображений...\n",
      "Сгенерировано 1000 изображений в generated_data/val...\n",
      "Сгенерировано 2000 изображений в generated_data/val...\n",
      "Сгенерировано 3000 изображений в generated_data/val...\n",
      "Сгенерировано 4000 изображений в generated_data/val...\n",
      "Генерация в generated_data/val завершена. Всего сгенерировано 4352 изображений.\n",
      "Файл меток сохранен: generated_data/val/labels.csv\n"
     ]
    }
   ],
   "source": [
    "# Генерация валидационных данных\n",
    "print(\"Генерация валидационных изображений...\")\n",
    "val_generator = GeneratorFromStrings(\n",
    "    strings=val_lines,\n",
    "    count=len(val_lines),\n",
    "    **generator_settings\n",
    ")\n",
    "generate_and_save(val_generator, val_lines, val_output_folder, 'labels.csv')"
   ]
  },
  {
   "cell_type": "code",
   "execution_count": 15,
   "id": "72d4c130-bfb0-4e68-baef-5a17e1dd81d7",
   "metadata": {},
   "outputs": [
    {
     "data": {
      "image/png": "[encoded data removed]",
      "text/plain": [
       "<Figure size 1000x400 with 1 Axes>"
      ]
     },
     "metadata": {},
     "output_type": "display_data"
    }
   ],
   "source": [
    "# Отображение примера сгенерированного изображения\n",
    "sample_image_path = os.path.join(val_output_folder, '0.jpg')\n",
    "if os.path.exists(sample_image_path):\n",
    "    img = plt.imread(sample_image_path)\n",
    "    plt.figure(figsize=(10, 4))\n",
    "    plt.imshow(img)\n",
    "    plt.axis('off')\n",
    "    # Загрузка меток для отображения\n",
    "    df_train_labels = pd.read_csv(os.path.join(val_output_folder, 'labels.csv'))\n",
    "    plt.title(df_train_labels.iloc[0]['words'])\n",
    "    plt.show()\n",
    "else:\n",
    "    print(f\"Сгенерированное изображение {sample_image_path} не найдено.\")"
   ]
  },
  {
   "cell_type": "code",
   "execution_count": null,
   "id": "18c39309-83b2-435a-bd9a-9e7dd6fd6dc6",
   "metadata": {},
   "outputs": [],
   "source": []
  }
 ],
 "metadata": {
  "kernelspec": {
   "display_name": "Python 3 (ipykernel)",
   "language": "python",
   "name": "python3"
  },
  "language_info": {
   "codemirror_mode": {
    "name": "ipython",
    "version": 3
   },
   "file_extension": ".py",
   "mimetype": "text/x-python",
   "name": "python",
   "nbconvert_exporter": "python",
   "pygments_lexer": "ipython3",
   "version": "3.10.13"
  }
 },
 "nbformat": 4,
 "nbformat_minor": 5
}
