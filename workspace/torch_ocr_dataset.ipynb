{
 "cells": [
  {
   "cell_type": "code",
   "execution_count": 1,
   "id": "496ad4e3-d976-47e1-9012-442f5e119fb5",
   "metadata": {
    "scrolled": true
   },
   "outputs": [
    {
     "name": "stdout",
     "output_type": "stream",
     "text": [
      "Collecting trdg\n",
      "  Downloading trdg-1.8.0-py3-none-any.whl.metadata (9.0 kB)\n",
      "Requirement already satisfied: matplotlib in /opt/conda/lib/python3.10/site-packages (3.9.2)\n",
      "Requirement already satisfied: pillow>=7.0.0 in /opt/conda/lib/python3.10/site-packages (from trdg) (10.2.0)\n",
      "Requirement already satisfied: requests>=2.20.0 in /opt/conda/lib/python3.10/site-packages (from trdg) (2.31.0)\n",
      "Collecting opencv-python>=4.2.0.32 (from trdg)\n",
      "  Downloading opencv_python-4.10.0.84-cp37-abi3-manylinux_2_17_x86_64.manylinux2014_x86_64.whl.metadata (20 kB)\n",
      "Requirement already satisfied: tqdm>=4.23.0 in /opt/conda/lib/python3.10/site-packages (from trdg) (4.65.0)\n",
      "Collecting wikipedia>=1.4.0 (from trdg)\n",
      "  Downloading wikipedia-1.4.0.tar.gz (27 kB)\n",
      "  Preparing metadata (setup.py) ... \u001b[?25ldone\n",
      "\u001b[?25hCollecting diffimg==0.2.3 (from trdg)\n",
      "  Downloading diffimg-0.2.3.tar.gz (4.1 kB)\n",
      "  Preparing metadata (setup.py) ... \u001b[?25ldone\n",
      "\u001b[?25hCollecting arabic-reshaper==2.1.3 (from trdg)\n",
      "  Downloading arabic_reshaper-2.1.3-py3-none-any.whl.metadata (12 kB)\n",
      "Collecting python-bidi==0.4.2 (from trdg)\n",
      "  Downloading python_bidi-0.4.2-py2.py3-none-any.whl.metadata (4.6 kB)\n",
      "Collecting future (from arabic-reshaper==2.1.3->trdg)\n",
      "  Downloading future-1.0.0-py3-none-any.whl.metadata (4.0 kB)\n",
      "Requirement already satisfied: setuptools in /opt/conda/lib/python3.10/site-packages (from arabic-reshaper==2.1.3->trdg) (68.2.2)\n",
      "Requirement already satisfied: six in /opt/conda/lib/python3.10/site-packages (from python-bidi==0.4.2->trdg) (1.16.0)\n",
      "Requirement already satisfied: contourpy>=1.0.1 in /opt/conda/lib/python3.10/site-packages (from matplotlib) (1.3.0)\n",
      "Requirement already satisfied: cycler>=0.10 in /opt/conda/lib/python3.10/site-packages (from matplotlib) (0.12.1)\n",
      "Requirement already satisfied: fonttools>=4.22.0 in /opt/conda/lib/python3.10/site-packages (from matplotlib) (4.54.1)\n",
      "Requirement already satisfied: kiwisolver>=1.3.1 in /opt/conda/lib/python3.10/site-packages (from matplotlib) (1.4.7)\n",
      "Requirement already satisfied: numpy>=1.23 in /opt/conda/lib/python3.10/site-packages (from matplotlib) (1.26.3)\n",
      "Requirement already satisfied: packaging>=20.0 in /opt/conda/lib/python3.10/site-packages (from matplotlib) (23.1)\n",
      "Requirement already satisfied: pyparsing>=2.3.1 in /opt/conda/lib/python3.10/site-packages (from matplotlib) (3.2.0)\n",
      "Requirement already satisfied: python-dateutil>=2.7 in /opt/conda/lib/python3.10/site-packages (from matplotlib) (2.9.0.post0)\n",
      "Requirement already satisfied: charset-normalizer<4,>=2 in /opt/conda/lib/python3.10/site-packages (from requests>=2.20.0->trdg) (2.0.4)\n",
      "Requirement already satisfied: idna<4,>=2.5 in /opt/conda/lib/python3.10/site-packages (from requests>=2.20.0->trdg) (3.4)\n",
      "Requirement already satisfied: urllib3<3,>=1.21.1 in /opt/conda/lib/python3.10/site-packages (from requests>=2.20.0->trdg) (2.1.0)\n",
      "Requirement already satisfied: certifi>=2017.4.17 in /opt/conda/lib/python3.10/site-packages (from requests>=2.20.0->trdg) (2024.2.2)\n",
      "Requirement already satisfied: beautifulsoup4 in /opt/conda/lib/python3.10/site-packages (from wikipedia>=1.4.0->trdg) (4.12.2)\n",
      "Requirement already satisfied: soupsieve>1.2 in /opt/conda/lib/python3.10/site-packages (from beautifulsoup4->wikipedia>=1.4.0->trdg) (2.5)\n",
      "\u001b[33mWARNING: The candidate selected for download or install is a yanked version: 'arabic-reshaper' candidate (version 2.1.3 at https://files.pythonhosted.org/packages/47/27/7b9b824f5342d8ee180027333f2e15842ea36f5bc2d3d24a4e6bb31fb596/arabic_reshaper-2.1.3-py3-none-any.whl (from https://pypi.org/simple/arabic-reshaper/))\n",
      "Reason for being yanked: Doesn't work with Python 2\u001b[0m\u001b[33m\n",
      "\u001b[0mDownloading trdg-1.8.0-py3-none-any.whl (98.6 MB)\n",
      "\u001b[2K   \u001b[90m━━━━━━━━━━━━━━━━━━━━━━━━━━━━━━━━━━━━━━━━\u001b[0m \u001b[32m98.6/98.6 MB\u001b[0m \u001b[31m6.6 MB/s\u001b[0m eta \u001b[36m0:00:00\u001b[0m00:01\u001b[0m00:01\u001b[0m0m\n",
      "\u001b[?25hDownloading arabic_reshaper-2.1.3-py3-none-any.whl (20 kB)\n",
      "Downloading python_bidi-0.4.2-py2.py3-none-any.whl (30 kB)\n",
      "Downloading opencv_python-4.10.0.84-cp37-abi3-manylinux_2_17_x86_64.manylinux2014_x86_64.whl (62.5 MB)\n",
      "\u001b[2K   \u001b[90m━━━━━━━━━━━━━━━━━━━━━━━━━━━━━━━━━━━━━━━━\u001b[0m \u001b[32m62.5/62.5 MB\u001b[0m \u001b[31m5.2 MB/s\u001b[0m eta \u001b[36m0:00:00\u001b[0m00:01\u001b[0m00:01\u001b[0m\n",
      "\u001b[?25hDownloading future-1.0.0-py3-none-any.whl (491 kB)\n",
      "\u001b[2K   \u001b[90m━━━━━━━━━━━━━━━━━━━━━━━━━━━━━━━━━━━━━━━━\u001b[0m \u001b[32m491.3/491.3 kB\u001b[0m \u001b[31m5.9 MB/s\u001b[0m eta \u001b[36m0:00:00\u001b[0ma \u001b[36m0:00:01\u001b[0m\n",
      "\u001b[?25hBuilding wheels for collected packages: diffimg, wikipedia\n",
      "  Building wheel for diffimg (setup.py) ... \u001b[?25ldone\n",
      "\u001b[?25h  Created wheel for diffimg: filename=diffimg-0.2.3-py3-none-any.whl size=4019 sha256=05c32e378bee79343cb2abc36fe561cd140a40fd6f92321af2259a01196f5f8c\n",
      "  Stored in directory: /root/.cache/pip/wheels/90/57/92/d4259a51f20cf92a473b567a009674e3390852b7fab19be6dc\n",
      "  Building wheel for wikipedia (setup.py) ... \u001b[?25ldone\n",
      "\u001b[?25h  Created wheel for wikipedia: filename=wikipedia-1.4.0-py3-none-any.whl size=11678 sha256=262a62d42488b35875e67d045a89c91792b3df61f690bb1d429077a0d44952d7\n",
      "  Stored in directory: /root/.cache/pip/wheels/5e/b6/c5/93f3dec388ae76edc830cb42901bb0232504dfc0df02fc50de\n",
      "Successfully built diffimg wikipedia\n",
      "Installing collected packages: python-bidi, opencv-python, future, diffimg, wikipedia, arabic-reshaper, trdg\n",
      "  Attempting uninstall: python-bidi\n",
      "    Found existing installation: python-bidi 0.6.0\n",
      "    Uninstalling python-bidi-0.6.0:\n",
      "      Successfully uninstalled python-bidi-0.6.0\n",
      "Successfully installed arabic-reshaper-2.1.3 diffimg-0.2.3 future-1.0.0 opencv-python-4.10.0.84 python-bidi-0.4.2 trdg-1.8.0 wikipedia-1.4.0\n",
      "\u001b[33mWARNING: Running pip as the 'root' user can result in broken permissions and conflicting behaviour with the system package manager. It is recommended to use a virtual environment instead: https://pip.pypa.io/warnings/venv\u001b[0m\u001b[33m\n",
      "\u001b[0m"
     ]
    }
   ],
   "source": [
    "!pip install trdg matplotlib"
   ]
  },
  {
   "cell_type": "code",
   "execution_count": 2,
   "id": "31650dde-8e38-4dcc-8bf0-8179911bfb1c",
   "metadata": {},
   "outputs": [
    {
     "name": "stdout",
     "output_type": "stream",
     "text": [
      "Collecting Pillow==9.5.0\n",
      "  Downloading Pillow-9.5.0-cp310-cp310-manylinux_2_28_x86_64.whl.metadata (9.5 kB)\n",
      "Downloading Pillow-9.5.0-cp310-cp310-manylinux_2_28_x86_64.whl (3.4 MB)\n",
      "\u001b[2K   \u001b[90m━━━━━━━━━━━━━━━━━━━━━━━━━━━━━━━━━━━━━━━━\u001b[0m \u001b[32m3.4/3.4 MB\u001b[0m \u001b[31m3.4 MB/s\u001b[0m eta \u001b[36m0:00:00\u001b[0m00:01\u001b[0m00:01\u001b[0m0m\n",
      "\u001b[?25hInstalling collected packages: Pillow\n",
      "  Attempting uninstall: Pillow\n",
      "    Found existing installation: pillow 10.2.0\n",
      "    Uninstalling pillow-10.2.0:\n",
      "      Successfully uninstalled pillow-10.2.0\n",
      "Successfully installed Pillow-9.5.0\n",
      "\u001b[33mWARNING: Running pip as the 'root' user can result in broken permissions and conflicting behaviour with the system package manager. It is recommended to use a virtual environment instead: https://pip.pypa.io/warnings/venv\u001b[0m\u001b[33m\n",
      "\u001b[0m"
     ]
    }
   ],
   "source": [
    "!pip install Pillow==9.5.0"
   ]
  },
  {
   "cell_type": "code",
   "execution_count": 1,
   "id": "14a91335-2d77-4778-ba54-db130bd58a4a",
   "metadata": {},
   "outputs": [
    {
     "name": "stdout",
     "output_type": "stream",
     "text": [
      "Missing modules for handwritten text generation.\n"
     ]
    }
   ],
   "source": [
    "import os\n",
    "import random\n",
    "from trdg.generators import GeneratorFromStrings\n",
    "import matplotlib.pyplot as plt\n",
    "import pandas as pd  "
   ]
  },
  {
   "cell_type": "code",
   "execution_count": 5,
   "id": "58b62c49-3eb4-471c-89d6-db55d94218b1",
   "metadata": {},
   "outputs": [
    {
     "data": {
      "text/plain": [
       "'/workspace'"
      ]
     },
     "execution_count": 5,
     "metadata": {},
     "output_type": "execute_result"
    }
   ],
   "source": [
    "os.getcwd()"
   ]
  },
  {
   "cell_type": "code",
   "execution_count": 2,
   "id": "8b807aba-9c3a-4001-96c4-e3b1106a5de7",
   "metadata": {},
   "outputs": [],
   "source": [
    "# Пути к папкам для сохранения данных\n",
    "train_output_folder = 'generated_data/sah_filtered'\n",
    "val_output_folder = 'generated_data/val'\n",
    "\n",
    "os.makedirs(train_output_folder, exist_ok=True)\n",
    "os.makedirs(val_output_folder, exist_ok=True)\n",
    "\n",
    "# Пути к файлам с текстом и шрифтами\n",
    "fonts_list_file = 'text/okfonts_test.txt'\n",
    "fonts_dir = '.'\n",
    "text_file = 'text/sah.wordlist'"
   ]
  },
  {
   "cell_type": "code",
   "execution_count": 3,
   "id": "87027fc9-6451-410d-9f6a-fea115f3eb39",
   "metadata": {},
   "outputs": [
    {
     "name": "stdout",
     "output_type": "stream",
     "text": [
      "Количество найденных файлов шрифтов: 75\n"
     ]
    }
   ],
   "source": [
    "font_paths = []\n",
    "\n",
    "with open(fonts_list_file, 'r', encoding='utf-8') as f:\n",
    "    font_dir_names = [line.strip() for line in f if line.strip()]\n",
    "\n",
    "for font_dir_name in font_dir_names:\n",
    "    font_dir_path = os.path.join(fonts_dir, font_dir_name)\n",
    "    if not os.path.isdir(font_dir_path):\n",
    "        print(f\"Директория {font_dir_path} не найдена. Пропускаем её.\")\n",
    "        continue\n",
    "    for root, dirs, files in os.walk(font_dir_path):\n",
    "        for fname in files:\n",
    "            if fname.lower().endswith(('.ttf', '.otf')):\n",
    "                font_path = os.path.join(root, fname)\n",
    "                font_paths.append(font_path)\n",
    "\n",
    "print(f\"Количество найденных файлов шрифтов: {len(font_paths)}\")"
   ]
  },
  {
   "cell_type": "code",
   "execution_count": 4,
   "id": "9f05ba4d-6251-4681-8fac-01aa5dc9dc98",
   "metadata": {},
   "outputs": [
    {
     "name": "stdout",
     "output_type": "stream",
     "text": [
      "Общее количество строк для генерации: 40117\n"
     ]
    }
   ],
   "source": [
    "with open(text_file, 'r', encoding='utf-8') as f:\n",
    "    lines = [line.strip() for line in f if line.strip()]\n",
    "\n",
    "print(f\"Общее количество строк для генерации: {len(lines)}\")\n",
    "\n",
    "random.shuffle(lines)"
   ]
  },
  {
   "cell_type": "code",
   "execution_count": 5,
   "id": "8cda22ae-47d6-4e27-8aae-c1c4a1dbec36",
   "metadata": {},
   "outputs": [
    {
     "name": "stdout",
     "output_type": "stream",
     "text": [
      "Количество тренировочных строк: 32093\n",
      "Количество валидационных строк: 8024\n"
     ]
    }
   ],
   "source": [
    "# Разделение на тренировочный и валидационный наборы\n",
    "validation_split = 0.2  # 20% данных для валидации\n",
    "split_index = int(len(lines) * (1 - validation_split))\n",
    "\n",
    "train_lines = lines[:split_index]\n",
    "val_lines = lines[split_index:]\n",
    "\n",
    "print(f\"Количество тренировочных строк: {len(train_lines)}\")\n",
    "print(f\"Количество валидационных строк: {len(val_lines)}\")"
   ]
  },
  {
   "cell_type": "code",
   "execution_count": 6,
   "id": "e0d46396-73af-4fca-83b2-a5b6d2f71c86",
   "metadata": {},
   "outputs": [],
   "source": [
    "# Настройка генератора TRDG\n",
    "generator_settings = {\n",
    "    'fonts': font_paths,\n",
    "    'size': 32,                  # Размер шрифта (можете настроить под свои нужды)\n",
    "    'background_type': 0,        # Тип фона: 0 - однородный, 1 - шум, 2 - градиент\n",
    "    'image_mode': 'RGB',\n",
    "    'text_color': 'black',\n",
    "    'skewing_angle': 0,\n",
    "    'random_skew': False,\n",
    "    'blur': 0,\n",
    "    'random_blur': False,\n",
    "    'is_handwritten': False,\n",
    "    'alignment': 1,\n",
    "    'width': 600,\n",
    "    'fit': True,\n",
    "    'space_width': 1.0,\n",
    "    'character_spacing': 0,\n",
    "    'stroke_width': 0,\n",
    "    'stroke_fill': '#ffffff'\n",
    "}"
   ]
  },
  {
   "cell_type": "code",
   "execution_count": 7,
   "id": "52e3207c-e707-4b80-96a7-c78f72d28675",
   "metadata": {
    "scrolled": true
   },
   "outputs": [],
   "source": [
    "# Функция для генерации данных и сохранения в CSV\n",
    "def generate_and_save(generator, lines, output_folder, csv_filename):\n",
    "    labels = []\n",
    "    for idx, (img, lbl) in enumerate(generator):\n",
    "        image_filename = f\"{idx}.jpg\"\n",
    "        image_path = os.path.join(output_folder, image_filename)\n",
    "        img.save(image_path)\n",
    "        labels.append((image_filename, lbl))\n",
    "        \n",
    "        if (idx + 1) % 1000 == 0:\n",
    "            print(f\"Сгенерировано {idx + 1} изображений в {output_folder}...\")\n",
    "    \n",
    "    print(f\"Генерация в {output_folder} завершена. Всего сгенерировано {len(labels)} изображений.\")\n",
    "    \n",
    "    # Сохранение меток в labels.csv с использованием pandas\n",
    "    df_labels = pd.DataFrame(labels, columns=['filename', 'words'])\n",
    "    labels_csv_path = os.path.join(output_folder, csv_filename)\n",
    "    df_labels.to_csv(labels_csv_path, index=False, encoding='utf-8')\n",
    "    \n",
    "    print(f\"Файл меток сохранен: {labels_csv_path}\")"
   ]
  },
  {
   "cell_type": "code",
   "execution_count": 11,
   "id": "e87c9d49-52a4-4218-b99d-355dc1273251",
   "metadata": {
    "scrolled": true
   },
   "outputs": [
    {
     "name": "stdout",
     "output_type": "stream",
     "text": [
      "Генерация тренировочных изображений...\n",
      "Сгенерировано 1000 изображений в generated_data/sah_filtered...\n",
      "Сгенерировано 2000 изображений в generated_data/sah_filtered...\n",
      "Сгенерировано 3000 изображений в generated_data/sah_filtered...\n",
      "Сгенерировано 4000 изображений в generated_data/sah_filtered...\n",
      "Сгенерировано 5000 изображений в generated_data/sah_filtered...\n",
      "Сгенерировано 6000 изображений в generated_data/sah_filtered...\n",
      "Сгенерировано 7000 изображений в generated_data/sah_filtered...\n",
      "Сгенерировано 8000 изображений в generated_data/sah_filtered...\n",
      "Сгенерировано 9000 изображений в generated_data/sah_filtered...\n",
      "Сгенерировано 10000 изображений в generated_data/sah_filtered...\n",
      "Сгенерировано 11000 изображений в generated_data/sah_filtered...\n",
      "Сгенерировано 12000 изображений в generated_data/sah_filtered...\n",
      "Сгенерировано 13000 изображений в generated_data/sah_filtered...\n",
      "Сгенерировано 14000 изображений в generated_data/sah_filtered...\n",
      "Сгенерировано 15000 изображений в generated_data/sah_filtered...\n",
      "Сгенерировано 16000 изображений в generated_data/sah_filtered...\n",
      "Сгенерировано 17000 изображений в generated_data/sah_filtered...\n",
      "Сгенерировано 18000 изображений в generated_data/sah_filtered...\n",
      "Сгенерировано 19000 изображений в generated_data/sah_filtered...\n",
      "Сгенерировано 20000 изображений в generated_data/sah_filtered...\n",
      "Сгенерировано 21000 изображений в generated_data/sah_filtered...\n",
      "Сгенерировано 22000 изображений в generated_data/sah_filtered...\n",
      "Сгенерировано 23000 изображений в generated_data/sah_filtered...\n",
      "Сгенерировано 24000 изображений в generated_data/sah_filtered...\n",
      "Сгенерировано 25000 изображений в generated_data/sah_filtered...\n",
      "Сгенерировано 26000 изображений в generated_data/sah_filtered...\n",
      "Сгенерировано 27000 изображений в generated_data/sah_filtered...\n",
      "Сгенерировано 28000 изображений в generated_data/sah_filtered...\n",
      "Сгенерировано 29000 изображений в generated_data/sah_filtered...\n",
      "Сгенерировано 30000 изображений в generated_data/sah_filtered...\n",
      "Сгенерировано 31000 изображений в generated_data/sah_filtered...\n",
      "Сгенерировано 32000 изображений в generated_data/sah_filtered...\n",
      "Генерация в generated_data/sah_filtered завершена. Всего сгенерировано 32093 изображений.\n",
      "Файл меток сохранен: generated_data/sah_filtered/labels.csv\n"
     ]
    }
   ],
   "source": [
    "# Генерация тренировочных данных\n",
    "print(\"Генерация тренировочных изображений...\")\n",
    "train_generator = GeneratorFromStrings(\n",
    "    strings=train_lines,\n",
    "    count=len(train_lines),\n",
    "    **generator_settings\n",
    ")\n",
    "generate_and_save(train_generator, train_lines, train_output_folder, 'labels.csv')"
   ]
  },
  {
   "cell_type": "code",
   "execution_count": 8,
   "id": "028e1267-3d52-41de-aba0-f1691eae7c84",
   "metadata": {},
   "outputs": [
    {
     "name": "stdout",
     "output_type": "stream",
     "text": [
      "Генерация валидационных изображений...\n",
      "Сгенерировано 1000 изображений в generated_data/val...\n",
      "Сгенерировано 2000 изображений в generated_data/val...\n",
      "Сгенерировано 3000 изображений в generated_data/val...\n",
      "Сгенерировано 4000 изображений в generated_data/val...\n",
      "Сгенерировано 5000 изображений в generated_data/val...\n",
      "Сгенерировано 6000 изображений в generated_data/val...\n",
      "Сгенерировано 7000 изображений в generated_data/val...\n",
      "Сгенерировано 8000 изображений в generated_data/val...\n",
      "Генерация в generated_data/val завершена. Всего сгенерировано 8024 изображений.\n",
      "Файл меток сохранен: generated_data/val/labels.csv\n"
     ]
    }
   ],
   "source": [
    "# Генерация валидационных данных\n",
    "print(\"Генерация валидационных изображений...\")\n",
    "val_generator = GeneratorFromStrings(\n",
    "    strings=val_lines,\n",
    "    count=len(val_lines),\n",
    "    **generator_settings\n",
    ")\n",
    "generate_and_save(val_generator, val_lines, val_output_folder, 'labels.csv')"
   ]
  },
  {
   "cell_type": "code",
   "execution_count": 10,
   "id": "72d4c130-bfb0-4e68-baef-5a17e1dd81d7",
   "metadata": {},
   "outputs": [
    {
     "data": {
      "image/png": "[encoded data removed]",
      "text/plain": [
       "<Figure size 1000x400 with 1 Axes>"
      ]
     },
     "metadata": {},
     "output_type": "display_data"
    }
   ],
   "source": [
    "# Отображение примера сгенерированного изображения\n",
    "sample_image_path = os.path.join(val_output_folder, '0.jpg')\n",
    "if os.path.exists(sample_image_path):\n",
    "    img = plt.imread(sample_image_path)\n",
    "    plt.figure(figsize=(10, 4))\n",
    "    plt.imshow(img)\n",
    "    plt.axis('off')\n",
    "    # Загрузка меток для отображения\n",
    "    df_train_labels = pd.read_csv(os.path.join(val_output_folder, 'labels.csv'))\n",
    "    plt.title(df_train_labels.iloc[0]['words'])\n",
    "    plt.show()\n",
    "else:\n",
    "    print(f\"Сгенерированное изображение {sample_image_path} не найдено.\")"
   ]
  },
  {
   "cell_type": "code",
   "execution_count": 2,
   "id": "18c39309-83b2-435a-bd9a-9e7dd6fd6dc6",
   "metadata": {},
   "outputs": [],
   "source": [
    "# Пути к папкам для сохранения данных\n",
    "train_output_folder = 'generated_data/sah_filtered'\n",
    "val_output_folder = 'generated_data/val'\n",
    "\n",
    "os.makedirs(train_output_folder, exist_ok=True)\n",
    "os.makedirs(val_output_folder, exist_ok=True)\n",
    "\n",
    "# Пути к файлам с текстом и шрифтами\n",
    "fonts_list_file = 'text/okfonts_test.txt'\n",
    "fonts_dir = '.'\n",
    "text_file = 'text/sah_texts.txt'"
   ]
  },
  {
   "cell_type": "code",
   "execution_count": 3,
   "id": "8c471693-264a-4a1b-8b46-e7bc29e1c1e3",
   "metadata": {},
   "outputs": [
    {
     "name": "stdout",
     "output_type": "stream",
     "text": [
      "Количество найденных файлов шрифтов: 75\n"
     ]
    }
   ],
   "source": [
    "font_paths = []\n",
    "\n",
    "with open(fonts_list_file, 'r', encoding='utf-8') as f:\n",
    "    font_dir_names = [line.strip() for line in f if line.strip()]\n",
    "\n",
    "for font_dir_name in font_dir_names:\n",
    "    font_dir_path = os.path.join(fonts_dir, font_dir_name)\n",
    "    if not os.path.isdir(font_dir_path):\n",
    "        print(f\"Директория {font_dir_path} не найдена. Пропускаем её.\")\n",
    "        continue\n",
    "    for root, dirs, files in os.walk(font_dir_path):\n",
    "        for fname in files:\n",
    "            if fname.lower().endswith(('.ttf', '.otf')):\n",
    "                font_path = os.path.join(root, fname)\n",
    "                font_paths.append(font_path)\n",
    "\n",
    "print(f\"Количество найденных файлов шрифтов: {len(font_paths)}\")"
   ]
  },
  {
   "cell_type": "code",
   "execution_count": 4,
   "id": "18758d4a-a29c-4bfe-9042-6c426df2cf9c",
   "metadata": {},
   "outputs": [
    {
     "name": "stdout",
     "output_type": "stream",
     "text": [
      "Общее количество строк для генерации: 61926\n"
     ]
    }
   ],
   "source": [
    "with open(text_file, 'r', encoding='utf-8') as f:\n",
    "    sentences = [line.strip() for line in f if line.strip()]\n",
    "\n",
    "print(f\"Общее количество строк для генерации: {len(sentences)}\")"
   ]
  },
  {
   "cell_type": "code",
   "execution_count": 13,
   "id": "6b7f03b6-c714-43ba-a93d-dd4d3f0dd7ac",
   "metadata": {},
   "outputs": [],
   "source": [
    "import textwrap\n",
    "\n",
    "# Разделяет длинные предложения на несколько строк, каждая из которых не превышает max_length символов.\n",
    "# def split_long_sentences(sentences, max_length=70):\n",
    "#     split_sentences = []\n",
    "#     for sentence in sentences:\n",
    "#         wrapped = textwrap.wrap(sentence, width=max_length, break_long_words=False, replace_whitespace=False)\n",
    "#         if wrapped:\n",
    "#             split_sentences.extend(wrapped)\n",
    "#         else:\n",
    "#             split_sentences.append('')  # Или пропустить\n",
    "#     return split_sentences\n",
    "\n",
    "def split_long_sentences(sentences, max_length=70):\n",
    "    split_sentences = []\n",
    "    for sentence in sentences:\n",
    "        if sentence.strip():  # Проверка на непустую строку\n",
    "            wrapped = textwrap.wrap(sentence, width=max_length, break_long_words=False, replace_whitespace=False)\n",
    "            split_sentences.extend(wrapped)\n",
    "    return split_sentences"
   ]
  },
  {
   "cell_type": "code",
   "execution_count": 22,
   "id": "5ece384b-55a5-46d4-b6c9-255edbded763",
   "metadata": {},
   "outputs": [
    {
     "name": "stdout",
     "output_type": "stream",
     "text": [
      "Часть 1: 75656 строк\n",
      "Часть 2: 75656 строк\n",
      "Часть 3: 75655 строк\n",
      "Часть 4: 75655 строк\n",
      "Общее количество строк для генерации: 302622\n",
      "Общее количество строк для генерации: 75656\n"
     ]
    }
   ],
   "source": [
    "import re\n",
    "\n",
    "def clean_text(text):\n",
    "    text = re.sub(r'[—‒–‐]', '-', text)\n",
    "\n",
    "    text = re.sub(r'[\\'\\\"\\‟\\„\\‘\\’\\“\\”]', '\"', text)\n",
    "\n",
    "    text = text.lower()\n",
    "\n",
    "    text = re.sub(r'[^0-9а-яёһөҕүҥ.,\\-:;?!]', ' ', text)\n",
    "\n",
    "    text = re.sub(r'\\s+', ' ', text).strip()\n",
    "    return text\n",
    "\n",
    "# Разделяет список `lst` на `n` примерно равных частей.\n",
    "def split_list(lst, n):\n",
    "    k, m = divmod(len(lst), n)\n",
    "    return [lst[i * k + min(i, m):(i + 1) * k + min(i + 1, m)] for i in range(n)]\n",
    "\n",
    "cleaned_sentences = [clean_text(sentence) for sentence in sentences]\n",
    "lines = cleaned_sentences\n",
    "lines = split_long_sentences(lines, max_length=70)\n",
    "\n",
    "split_parts = split_list(lines, 4)\n",
    "for idx, part in enumerate(split_parts, 1):\n",
    "    print(f\"Часть {idx}: {len(part)} строк\")\n",
    "    \n",
    "print(f\"Общее количество строк для генерации: {len(lines)}\")\n",
    "\n",
    "lines = split_parts[0]\n",
    "\n",
    "print(f\"Общее количество строк для генерации: {len(lines)}\")"
   ]
  },
  {
   "cell_type": "code",
   "execution_count": 23,
   "id": "8929f67a-b6d4-46d9-8c55-085d493bdce8",
   "metadata": {},
   "outputs": [
    {
     "name": "stdout",
     "output_type": "stream",
     "text": [
      "Количество тренировочных строк: 60524\n",
      "Количество валидационных строк: 15132\n"
     ]
    }
   ],
   "source": [
    "# Разделение на тренировочный и валидационный наборы\n",
    "validation_split = 0.2  # 20% данных для валидации\n",
    "split_index = int(len(lines) * (1 - validation_split))\n",
    "\n",
    "train_lines = lines[:split_index]\n",
    "val_lines = lines[split_index:]\n",
    "\n",
    "print(f\"Количество тренировочных строк: {len(train_lines)}\")\n",
    "print(f\"Количество валидационных строк: {len(val_lines)}\")"
   ]
  },
  {
   "cell_type": "code",
   "execution_count": 24,
   "id": "bc03bf08-fc90-4bde-8876-6300c9b63c36",
   "metadata": {},
   "outputs": [],
   "source": [
    "# Настройка генератора TRDG\n",
    "generator_settings = {\n",
    "    'fonts': font_paths,\n",
    "    'size': 32,                  # Размер шрифта (можете настроить под свои нужды)\n",
    "    'background_type': 0,        # Тип фона: 0 - однородный, 1 - шум, 2 - градиент\n",
    "    'image_mode': 'RGB',\n",
    "    'text_color': 'black',\n",
    "    'skewing_angle': 0,\n",
    "    'random_skew': False,\n",
    "    'blur': 0,\n",
    "    'random_blur': False,\n",
    "    'is_handwritten': False,\n",
    "    'alignment': 1,\n",
    "    'width': 1600,\n",
    "    'fit': True,\n",
    "    'space_width': 1.0,\n",
    "    'character_spacing': 0,\n",
    "    'stroke_width': 0,\n",
    "    'stroke_fill': '#ffffff'\n",
    "}"
   ]
  },
  {
   "cell_type": "code",
   "execution_count": 25,
   "id": "4621946c-1a4c-49a0-812c-12286e59264a",
   "metadata": {},
   "outputs": [],
   "source": [
    "# Функция для генерации данных и сохранения в CSV\n",
    "def generate_and_save(generator, lines, output_folder, csv_filename):\n",
    "    labels = []\n",
    "    for idx, (img, lbl) in enumerate(generator):\n",
    "        image_filename = f\"{idx}.jpg\"\n",
    "        image_path = os.path.join(output_folder, image_filename)\n",
    "        img.save(image_path)\n",
    "        labels.append((image_filename, lbl))\n",
    "        \n",
    "        if (idx + 1) % 1000 == 0:\n",
    "            print(f\"Сгенерировано {idx + 1} изображений в {output_folder}...\")\n",
    "    \n",
    "    print(f\"Генерация в {output_folder} завершена. Всего сгенерировано {len(labels)} изображений.\")\n",
    "    \n",
    "    # Сохранение меток в labels.csv с использованием pandas\n",
    "    df_labels = pd.DataFrame(labels, columns=['filename', 'words'])\n",
    "    labels_csv_path = os.path.join(output_folder, csv_filename)\n",
    "    df_labels.to_csv(labels_csv_path, index=False, encoding='utf-8')\n",
    "    \n",
    "    print(f\"Файл меток сохранен: {labels_csv_path}\")"
   ]
  },
  {
   "cell_type": "code",
   "execution_count": 27,
   "id": "59e7ceb8-685b-403a-aafb-7a1b4cf703ab",
   "metadata": {},
   "outputs": [
    {
     "name": "stdout",
     "output_type": "stream",
     "text": [
      "Генерация тренировочных изображений...\n",
      "Сгенерировано 1000 изображений в generated_data/sah_filtered...\n",
      "Сгенерировано 2000 изображений в generated_data/sah_filtered...\n",
      "Сгенерировано 3000 изображений в generated_data/sah_filtered...\n",
      "Сгенерировано 4000 изображений в generated_data/sah_filtered...\n",
      "Сгенерировано 5000 изображений в generated_data/sah_filtered...\n",
      "Сгенерировано 6000 изображений в generated_data/sah_filtered...\n",
      "Сгенерировано 7000 изображений в generated_data/sah_filtered...\n",
      "Сгенерировано 8000 изображений в generated_data/sah_filtered...\n",
      "Сгенерировано 9000 изображений в generated_data/sah_filtered...\n",
      "Сгенерировано 10000 изображений в generated_data/sah_filtered...\n",
      "Сгенерировано 11000 изображений в generated_data/sah_filtered...\n",
      "Сгенерировано 12000 изображений в generated_data/sah_filtered...\n",
      "Сгенерировано 13000 изображений в generated_data/sah_filtered...\n",
      "Сгенерировано 14000 изображений в generated_data/sah_filtered...\n",
      "Сгенерировано 15000 изображений в generated_data/sah_filtered...\n",
      "Сгенерировано 16000 изображений в generated_data/sah_filtered...\n",
      "Сгенерировано 17000 изображений в generated_data/sah_filtered...\n",
      "Сгенерировано 18000 изображений в generated_data/sah_filtered...\n",
      "Сгенерировано 19000 изображений в generated_data/sah_filtered...\n",
      "Сгенерировано 20000 изображений в generated_data/sah_filtered...\n",
      "Сгенерировано 21000 изображений в generated_data/sah_filtered...\n",
      "Сгенерировано 22000 изображений в generated_data/sah_filtered...\n",
      "Сгенерировано 23000 изображений в generated_data/sah_filtered...\n",
      "Сгенерировано 24000 изображений в generated_data/sah_filtered...\n",
      "Сгенерировано 25000 изображений в generated_data/sah_filtered...\n",
      "Сгенерировано 26000 изображений в generated_data/sah_filtered...\n",
      "Сгенерировано 27000 изображений в generated_data/sah_filtered...\n",
      "Сгенерировано 28000 изображений в generated_data/sah_filtered...\n",
      "Сгенерировано 29000 изображений в generated_data/sah_filtered...\n",
      "Сгенерировано 30000 изображений в generated_data/sah_filtered...\n",
      "Сгенерировано 31000 изображений в generated_data/sah_filtered...\n",
      "Сгенерировано 32000 изображений в generated_data/sah_filtered...\n",
      "Сгенерировано 33000 изображений в generated_data/sah_filtered...\n",
      "Сгенерировано 34000 изображений в generated_data/sah_filtered...\n",
      "Сгенерировано 35000 изображений в generated_data/sah_filtered...\n",
      "Сгенерировано 36000 изображений в generated_data/sah_filtered...\n",
      "Сгенерировано 37000 изображений в generated_data/sah_filtered...\n",
      "Сгенерировано 38000 изображений в generated_data/sah_filtered...\n",
      "Сгенерировано 39000 изображений в generated_data/sah_filtered...\n",
      "Сгенерировано 40000 изображений в generated_data/sah_filtered...\n",
      "Сгенерировано 41000 изображений в generated_data/sah_filtered...\n",
      "Сгенерировано 42000 изображений в generated_data/sah_filtered...\n",
      "Сгенерировано 43000 изображений в generated_data/sah_filtered...\n",
      "Сгенерировано 44000 изображений в generated_data/sah_filtered...\n",
      "Сгенерировано 45000 изображений в generated_data/sah_filtered...\n",
      "Сгенерировано 46000 изображений в generated_data/sah_filtered...\n",
      "Сгенерировано 47000 изображений в generated_data/sah_filtered...\n",
      "Сгенерировано 48000 изображений в generated_data/sah_filtered...\n",
      "Сгенерировано 49000 изображений в generated_data/sah_filtered...\n",
      "Сгенерировано 50000 изображений в generated_data/sah_filtered...\n",
      "Сгенерировано 51000 изображений в generated_data/sah_filtered...\n",
      "Сгенерировано 52000 изображений в generated_data/sah_filtered...\n",
      "Сгенерировано 53000 изображений в generated_data/sah_filtered...\n",
      "Сгенерировано 54000 изображений в generated_data/sah_filtered...\n",
      "Сгенерировано 55000 изображений в generated_data/sah_filtered...\n",
      "Сгенерировано 56000 изображений в generated_data/sah_filtered...\n",
      "Сгенерировано 57000 изображений в generated_data/sah_filtered...\n",
      "Сгенерировано 58000 изображений в generated_data/sah_filtered...\n",
      "Сгенерировано 59000 изображений в generated_data/sah_filtered...\n",
      "Сгенерировано 60000 изображений в generated_data/sah_filtered...\n",
      "Генерация в generated_data/sah_filtered завершена. Всего сгенерировано 60524 изображений.\n",
      "Файл меток сохранен: generated_data/sah_filtered/labels.csv\n"
     ]
    }
   ],
   "source": [
    "# Генерация тренировочных данных\n",
    "print(\"Генерация тренировочных изображений...\")\n",
    "train_generator = GeneratorFromStrings(\n",
    "    strings=train_lines,\n",
    "    count=len(train_lines),\n",
    "    **generator_settings\n",
    ")\n",
    "generate_and_save(train_generator, train_lines, train_output_folder, 'labels.csv')"
   ]
  },
  {
   "cell_type": "code",
   "execution_count": 26,
   "id": "a66c6143-ce34-437d-8653-929f7b675360",
   "metadata": {},
   "outputs": [
    {
     "name": "stdout",
     "output_type": "stream",
     "text": [
      "Генерация валидационных изображений...\n",
      "Сгенерировано 1000 изображений в generated_data/val...\n",
      "Сгенерировано 2000 изображений в generated_data/val...\n",
      "Сгенерировано 3000 изображений в generated_data/val...\n",
      "Сгенерировано 4000 изображений в generated_data/val...\n",
      "Сгенерировано 5000 изображений в generated_data/val...\n",
      "Сгенерировано 6000 изображений в generated_data/val...\n",
      "Сгенерировано 7000 изображений в generated_data/val...\n",
      "Сгенерировано 8000 изображений в generated_data/val...\n",
      "Сгенерировано 9000 изображений в generated_data/val...\n",
      "Сгенерировано 10000 изображений в generated_data/val...\n",
      "Сгенерировано 11000 изображений в generated_data/val...\n",
      "Сгенерировано 12000 изображений в generated_data/val...\n",
      "Сгенерировано 13000 изображений в generated_data/val...\n",
      "Сгенерировано 14000 изображений в generated_data/val...\n",
      "Сгенерировано 15000 изображений в generated_data/val...\n",
      "Генерация в generated_data/val завершена. Всего сгенерировано 15132 изображений.\n",
      "Файл меток сохранен: generated_data/val/labels.csv\n"
     ]
    }
   ],
   "source": [
    "# Генерация валидационных данных\n",
    "print(\"Генерация валидационных изображений...\")\n",
    "val_generator = GeneratorFromStrings(\n",
    "    strings=val_lines,\n",
    "    count=len(val_lines),\n",
    "    **generator_settings\n",
    ")\n",
    "generate_and_save(val_generator, val_lines, val_output_folder, 'labels.csv')"
   ]
  },
  {
   "cell_type": "code",
   "execution_count": null,
   "id": "bdc3e0c5-6638-47ab-9a70-540053132040",
   "metadata": {},
   "outputs": [],
   "source": []
  }
 ],
 "metadata": {
  "kernelspec": {
   "display_name": "Python 3 (ipykernel)",
   "language": "python",
   "name": "python3"
  },
  "language_info": {
   "codemirror_mode": {
    "name": "ipython",
    "version": 3
   },
   "file_extension": ".py",
   "mimetype": "text/x-python",
   "name": "python",
   "nbconvert_exporter": "python",
   "pygments_lexer": "ipython3",
   "version": "3.10.13"
  }
 },
 "nbformat": 4,
 "nbformat_minor": 5
}
